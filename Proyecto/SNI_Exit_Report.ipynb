{
  "cells": [
    {
      "metadata": {
        "trusted": true
      },
      "cell_type": "code",
      "source": "import numpy as np\nimport pandas as pd",
      "execution_count": 1,
      "outputs": []
    },
    {
      "metadata": {
        "trusted": true,
        "scrolled": true,
        "slideshow": {
          "slide_type": "slide"
        }
      },
      "cell_type": "code",
      "source": "#IMPORTAR FILE DE AYER\nSNI = pd.read_csv('07-22-19.csv', \n                  usecols=['Report_Date DD/MM/YY','Outside Month/Inside Quarter','Region','Revision Result','Sub region', 'BU', 'EG AMS Net USD Amount', 'Sold To Customer Name','Sales Order Identifier'], encoding='latin-1')\n\nSNI_ayer = SNI[(SNI['Outside Month/Inside Quarter'].isin(['Out of Quarter','Risk Without EID', '#N/A'])) & (SNI['Region']=='LA')\n              & SNI['Revision Result'].isin(['Conditional Acceptance','Billing Block','Investigation','IT Issues',\n                                             'Software','In Transit to Invoice','HUB'])\n              & (SNI['BU'].isin(['ISS','Mission Critical','Storage']))]",
      "execution_count": 2,
      "outputs": []
    },
    {
      "metadata": {
        "trusted": true
      },
      "cell_type": "code",
      "source": "#IMPORTAR FILE DE HOY\nSNII = pd.read_csv('07-23-19.csv', \n                  usecols=['Report_Date DD/MM/YY','Outside Month/Inside Quarter','Region','Revision Result','Sub region', 'BU', 'EG AMS Net USD Amount', 'Sold To Customer Name','Sales Order Identifier'], encoding='latin-1')\n\nSNI_hoy = SNII[(SNII['Outside Month/Inside Quarter'].isin(['Out of Quarter','Risk Without EID', ''])) & (SNII['Region']=='LA')\n              & SNII['Revision Result'].isin(['Conditional Acceptance','Billing Block','Investigation','IT Issues',\n                                             'Software','In Transit to Invoice','HUB'])\n              & (SNII['BU'].isin(['ISS','Mission Critical','Storage']))]",
      "execution_count": 3,
      "outputs": []
    },
    {
      "metadata": {
        "trusted": true
      },
      "cell_type": "code",
      "source": "#FORMATO DE LA COLUMNA MONEY A FLOAT\ncolumn1= SNI_ayer['EG AMS Net USD Amount'].str.replace('$','')\ncolumn1= column1.str.replace(',','')\ncolumn1= column1.astype('float64')\nSNI_ayer['EG AMS Net USD Amount']= column1",
      "execution_count": 4,
      "outputs": [
        {
          "output_type": "stream",
          "text": "/home/nbuser/anaconda3_501/lib/python3.6/site-packages/ipykernel/__main__.py:5: SettingWithCopyWarning: \nA value is trying to be set on a copy of a slice from a DataFrame.\nTry using .loc[row_indexer,col_indexer] = value instead\n\nSee the caveats in the documentation: http://pandas.pydata.org/pandas-docs/stable/indexing.html#indexing-view-versus-copy\n",
          "name": "stderr"
        }
      ]
    },
    {
      "metadata": {
        "trusted": true
      },
      "cell_type": "code",
      "source": "column2= SNI_hoy['EG AMS Net USD Amount'].str.replace('$','')\ncolumn2= column2.str.replace(',','')\ncolumn2= column2.astype('float64')\nSNI_hoy['EG AMS Net USD Amount']= column2",
      "execution_count": 5,
      "outputs": [
        {
          "output_type": "stream",
          "text": "/home/nbuser/anaconda3_501/lib/python3.6/site-packages/ipykernel/__main__.py:4: SettingWithCopyWarning: \nA value is trying to be set on a copy of a slice from a DataFrame.\nTry using .loc[row_indexer,col_indexer] = value instead\n\nSee the caveats in the documentation: http://pandas.pydata.org/pandas-docs/stable/indexing.html#indexing-view-versus-copy\n",
          "name": "stderr"
        }
      ]
    },
    {
      "metadata": {
        "trusted": true,
        "scrolled": true
      },
      "cell_type": "code",
      "source": "SNI_ayer['EG AMS Net USD Amount'].sum()",
      "execution_count": 6,
      "outputs": [
        {
          "output_type": "execute_result",
          "execution_count": 6,
          "data": {
            "text/plain": "3180305.23"
          },
          "metadata": {}
        }
      ]
    },
    {
      "metadata": {
        "trusted": true
      },
      "cell_type": "code",
      "source": "SNI_hoy['EG AMS Net USD Amount'].sum()",
      "execution_count": 7,
      "outputs": [
        {
          "output_type": "execute_result",
          "execution_count": 7,
          "data": {
            "text/plain": "3170846.1"
          },
          "metadata": {}
        }
      ]
    },
    {
      "metadata": {
        "trusted": true
      },
      "cell_type": "code",
      "source": "#Tabla principal\npivote_hoy= SNI_hoy.copy().pivot_table(index=['Sub region','Sold To Customer Name','Sales Order Identifier'],columns=['BU'], values='EG AMS Net USD Amount', aggfunc=np.sum, \n            fill_value=0,margins=True,margins_name='Total')",
      "execution_count": 8,
      "outputs": []
    },
    {
      "metadata": {
        "trusted": true
      },
      "cell_type": "code",
      "source": "EndUser_hoy = SNI_hoy.copy()\nEndUser_ayer = SNI_ayer.copy()",
      "execution_count": 9,
      "outputs": []
    },
    {
      "metadata": {
        "trusted": true
      },
      "cell_type": "code",
      "source": "#COMPARAR LOS FILES - NUEVOS END USER\ncolumnsdrop = ['Report_Date DD/MM/YY','BU','Revision Result','Outside Month/Inside Quarter', 'Region', 'Sales Order Identifier']\nEndUser_hoy.drop(columnsdrop, inplace=True, axis=1)\nEndUser_ayer.drop(columnsdrop, inplace=True, axis=1)",
      "execution_count": 10,
      "outputs": []
    },
    {
      "metadata": {
        "trusted": true
      },
      "cell_type": "code",
      "source": "#OBTENER LOS NUEVOS END USER DEL ARCHIVO DE HOY\ndiff_df = pd.merge(EndUser_hoy, EndUser_ayer, how='outer', indicator='Exist')\ndiff_df = diff_df.loc[diff_df['Exist'] == 'left_only']\npivote_diff= diff_df.copy().pivot_table(index=['Sub region','Sold To Customer Name'], values='EG AMS Net USD Amount', aggfunc=np.sum, fill_value=0)",
      "execution_count": 11,
      "outputs": []
    },
    {
      "metadata": {
        "trusted": true
      },
      "cell_type": "code",
      "source": "Order_hoy = SNI_hoy.copy()\nOrder_ayer = SNI_ayer.copy()",
      "execution_count": 12,
      "outputs": []
    },
    {
      "metadata": {
        "trusted": true
      },
      "cell_type": "code",
      "source": "#COMPARAR LOS FILES - NUEVOS SALES ORDER\ncolumnsdrop = ['Report_Date DD/MM/YY','BU','Revision Result','Outside Month/Inside Quarter', 'Region','EG AMS Net USD Amount']\nOrder_hoy.drop(columnsdrop, inplace=True, axis=1)\nOrder_ayer.drop(columnsdrop, inplace=True, axis=1)",
      "execution_count": 13,
      "outputs": []
    },
    {
      "metadata": {
        "trusted": true,
        "scrolled": true
      },
      "cell_type": "code",
      "source": "diff_df2 = pd.merge(Order_hoy, Order_ayer, how='outer', indicator='Exist')\ndiff_df2 = diff_df2.loc[diff_df2['Exist'] == 'left_only']\ndiff_df2.drop_duplicates(inplace=True)\ndiff_df2",
      "execution_count": 14,
      "outputs": [
        {
          "output_type": "execute_result",
          "execution_count": 14,
          "data": {
            "text/html": "<div>\n<style scoped>\n    .dataframe tbody tr th:only-of-type {\n        vertical-align: middle;\n    }\n\n    .dataframe tbody tr th {\n        vertical-align: top;\n    }\n\n    .dataframe thead th {\n        text-align: right;\n    }\n</style>\n<table border=\"1\" class=\"dataframe\">\n  <thead>\n    <tr style=\"text-align: right;\">\n      <th></th>\n      <th>Sales Order Identifier</th>\n      <th>Sold To Customer Name</th>\n      <th>Sub region</th>\n      <th>Exist</th>\n    </tr>\n  </thead>\n  <tbody>\n    <tr>\n      <th>101084</th>\n      <td>303824639</td>\n      <td>Interatec Llc</td>\n      <td>MCA</td>\n      <td>left_only</td>\n    </tr>\n  </tbody>\n</table>\n</div>",
            "text/plain": "        Sales Order Identifier Sold To Customer Name Sub region      Exist\n101084               303824639         Interatec Llc        MCA  left_only"
          },
          "metadata": {}
        }
      ]
    },
    {
      "metadata": {
        "trusted": true
      },
      "cell_type": "code",
      "source": "Order_diff = SNI_hoy.merge(diff_df2, on=['Sales Order Identifier'], how='right')",
      "execution_count": 15,
      "outputs": []
    },
    {
      "metadata": {
        "trusted": true,
        "scrolled": false
      },
      "cell_type": "code",
      "source": "Order_diff.rename(columns={'Sold To Customer Name_x': 'Sold To Customer Name', 'Sub region_x':'Sub region'}, inplace=True)\nOrder_hoy_pivote= Order_diff.copy().pivot_table(index=['Sub region','Sold To Customer Name','Sales Order Identifier'],columns=['BU'], values='EG AMS Net USD Amount', aggfunc=np.sum, fill_value=0,margins=True,margins_name='Total')",
      "execution_count": 16,
      "outputs": []
    },
    {
      "metadata": {
        "trusted": true
      },
      "cell_type": "code",
      "source": "#PIE CHART",
      "execution_count": 17,
      "outputs": []
    },
    {
      "metadata": {
        "trusted": true
      },
      "cell_type": "code",
      "source": "pivote_hoy_chart= SNI_hoy.copy().pivot_table(index=['Sub region'], values='EG AMS Net USD Amount', aggfunc=np.sum).apply(lambda x:100 * x / float(x.sum())).round(2)",
      "execution_count": 18,
      "outputs": []
    },
    {
      "metadata": {
        "trusted": true
      },
      "cell_type": "markdown",
      "source": "# SNI Exit Report\n\n### Today´s SNI Details"
    },
    {
      "metadata": {
        "trusted": true
      },
      "cell_type": "code",
      "source": "pivote_hoy",
      "execution_count": 19,
      "outputs": [
        {
          "output_type": "execute_result",
          "execution_count": 19,
          "data": {
            "text/html": "<div>\n<style scoped>\n    .dataframe tbody tr th:only-of-type {\n        vertical-align: middle;\n    }\n\n    .dataframe tbody tr th {\n        vertical-align: top;\n    }\n\n    .dataframe thead th {\n        text-align: right;\n    }\n</style>\n<table border=\"1\" class=\"dataframe\">\n  <thead>\n    <tr style=\"text-align: right;\">\n      <th></th>\n      <th></th>\n      <th>BU</th>\n      <th>ISS</th>\n      <th>Mission Critical</th>\n      <th>Storage</th>\n      <th>Total</th>\n    </tr>\n    <tr>\n      <th>Sub region</th>\n      <th>Sold To Customer Name</th>\n      <th>Sales Order Identifier</th>\n      <th></th>\n      <th></th>\n      <th></th>\n      <th></th>\n    </tr>\n  </thead>\n  <tbody>\n    <tr>\n      <th>Brazil</th>\n      <th>SCANSOURCE BRASIL DISTRIBUIDORA</th>\n      <th>303827213</th>\n      <td>4211.10</td>\n      <td>0</td>\n      <td>0.00</td>\n      <td>4211.10</td>\n    </tr>\n    <tr>\n      <th rowspan=\"17\" valign=\"top\">MCA</th>\n      <th rowspan=\"2\" valign=\"top\">BANCO INTERNACIONAL DEL PERU S.A.A.</th>\n      <th>303826714</th>\n      <td>0.00</td>\n      <td>1392</td>\n      <td>0.00</td>\n      <td>1392.00</td>\n    </tr>\n    <tr>\n      <th>303826788</th>\n      <td>0.00</td>\n      <td>1392</td>\n      <td>0.00</td>\n      <td>1392.00</td>\n    </tr>\n    <tr>\n      <th>BBVA COLOMBIA</th>\n      <th>303793001</th>\n      <td>357290.75</td>\n      <td>0</td>\n      <td>0.00</td>\n      <td>357290.75</td>\n    </tr>\n    <tr>\n      <th>Banco de Chile</th>\n      <th>303824470</th>\n      <td>0.00</td>\n      <td>0</td>\n      <td>183163.29</td>\n      <td>183163.29</td>\n    </tr>\n    <tr>\n      <th rowspan=\"2\" valign=\"top\">COLOMBIA TELECOMUNICACIONES S A E S P</th>\n      <th>303749607</th>\n      <td>1763.00</td>\n      <td>0</td>\n      <td>0.00</td>\n      <td>1763.00</td>\n    </tr>\n    <tr>\n      <th>303795615</th>\n      <td>154.12</td>\n      <td>0</td>\n      <td>115881.00</td>\n      <td>116035.12</td>\n    </tr>\n    <tr>\n      <th>COMESTIBLES LA ROSA S.A</th>\n      <th>303825922</th>\n      <td>1000.00</td>\n      <td>0</td>\n      <td>0.00</td>\n      <td>1000.00</td>\n    </tr>\n    <tr>\n      <th>Interatec Llc</th>\n      <th>303824639</th>\n      <td>1149.12</td>\n      <td>0</td>\n      <td>331.67</td>\n      <td>1480.79</td>\n    </tr>\n    <tr>\n      <th rowspan=\"2\" valign=\"top\">Itau Corpbanca</th>\n      <th>303812884</th>\n      <td>0.00</td>\n      <td>0</td>\n      <td>75215.13</td>\n      <td>75215.13</td>\n    </tr>\n    <tr>\n      <th>303813226</th>\n      <td>99205.08</td>\n      <td>0</td>\n      <td>0.00</td>\n      <td>99205.08</td>\n    </tr>\n    <tr>\n      <th>OLD MUTUAL VALORES S A</th>\n      <th>303824679</th>\n      <td>4.33</td>\n      <td>0</td>\n      <td>0.00</td>\n      <td>4.33</td>\n    </tr>\n    <tr>\n      <th>Pontificia Universidad Catolica de Chile*</th>\n      <th>303812885</th>\n      <td>0.00</td>\n      <td>0</td>\n      <td>1205.10</td>\n      <td>1205.10</td>\n    </tr>\n    <tr>\n      <th>TELEFONICA DEL PERU SAA</th>\n      <th>303787060</th>\n      <td>32312.08</td>\n      <td>0</td>\n      <td>0.00</td>\n      <td>32312.08</td>\n    </tr>\n    <tr>\n      <th>TERNIUM ARGENTINA S.A.</th>\n      <th>303802871</th>\n      <td>7466.88</td>\n      <td>0</td>\n      <td>868.68</td>\n      <td>8335.56</td>\n    </tr>\n    <tr>\n      <th rowspan=\"3\" valign=\"top\">Telefonica Moviles Chile S.A.</th>\n      <th>303786200</th>\n      <td>266852.65</td>\n      <td>0</td>\n      <td>8775.58</td>\n      <td>275628.23</td>\n    </tr>\n    <tr>\n      <th>303786892</th>\n      <td>164964.39</td>\n      <td>0</td>\n      <td>5786.56</td>\n      <td>170750.95</td>\n    </tr>\n    <tr>\n      <th>303789057</th>\n      <td>186416.39</td>\n      <td>0</td>\n      <td>5786.56</td>\n      <td>192202.95</td>\n    </tr>\n    <tr>\n      <th rowspan=\"17\" valign=\"top\">Mexico</th>\n      <th>AT&amp;T Comunicaciones Digitales, S. de R.L. de C.V.</th>\n      <th>303786924</th>\n      <td>449956.98</td>\n      <td>0</td>\n      <td>0.00</td>\n      <td>449956.98</td>\n    </tr>\n    <tr>\n      <th rowspan=\"2\" valign=\"top\">Banco Nacional de México, S.A., Integrante del Grupo Financiero Banamex</th>\n      <th>303812910</th>\n      <td>29159.86</td>\n      <td>0</td>\n      <td>0.00</td>\n      <td>29159.86</td>\n    </tr>\n    <tr>\n      <th>303812965</th>\n      <td>29159.86</td>\n      <td>0</td>\n      <td>0.00</td>\n      <td>29159.86</td>\n    </tr>\n    <tr>\n      <th>ERICSSON TELECOM SA DE CV</th>\n      <th>303801728</th>\n      <td>2798.40</td>\n      <td>0</td>\n      <td>0.00</td>\n      <td>2798.40</td>\n    </tr>\n    <tr>\n      <th rowspan=\"2\" valign=\"top\">FORD MOTOR COMPANY SA DE CV</th>\n      <th>303828863</th>\n      <td>34482.29</td>\n      <td>0</td>\n      <td>0.00</td>\n      <td>34482.29</td>\n    </tr>\n    <tr>\n      <th>303829128</th>\n      <td>13986.21</td>\n      <td>0</td>\n      <td>0.00</td>\n      <td>13986.21</td>\n    </tr>\n    <tr>\n      <th>Nokia de México, S.A. de C.V.</th>\n      <th>303810140</th>\n      <td>90922.53</td>\n      <td>0</td>\n      <td>0.00</td>\n      <td>90922.53</td>\n    </tr>\n    <tr>\n      <th>TERNIUM MEXICO S.A. DE C.V.</th>\n      <th>303812863</th>\n      <td>3873.35</td>\n      <td>0</td>\n      <td>0.00</td>\n      <td>3873.35</td>\n    </tr>\n    <tr>\n      <th rowspan=\"9\" valign=\"top\">Triara.com, S.A. de C.V.</th>\n      <th>303776532</th>\n      <td>0.00</td>\n      <td>0</td>\n      <td>203.72</td>\n      <td>203.72</td>\n    </tr>\n    <tr>\n      <th>303776533</th>\n      <td>370075.23</td>\n      <td>0</td>\n      <td>100.27</td>\n      <td>370175.50</td>\n    </tr>\n    <tr>\n      <th>303776628</th>\n      <td>479856.92</td>\n      <td>0</td>\n      <td>100.27</td>\n      <td>479957.19</td>\n    </tr>\n    <tr>\n      <th>303776629</th>\n      <td>2046.68</td>\n      <td>0</td>\n      <td>307.43</td>\n      <td>2354.11</td>\n    </tr>\n    <tr>\n      <th>303777091</th>\n      <td>2007.26</td>\n      <td>0</td>\n      <td>66433.45</td>\n      <td>68440.71</td>\n    </tr>\n    <tr>\n      <th>303777092</th>\n      <td>0.00</td>\n      <td>0</td>\n      <td>203.72</td>\n      <td>203.72</td>\n    </tr>\n    <tr>\n      <th>303777288</th>\n      <td>2007.26</td>\n      <td>0</td>\n      <td>49529.06</td>\n      <td>51536.32</td>\n    </tr>\n    <tr>\n      <th>303777344</th>\n      <td>2026.74</td>\n      <td>0</td>\n      <td>307.43</td>\n      <td>2334.17</td>\n    </tr>\n    <tr>\n      <th>303804673</th>\n      <td>18713.72</td>\n      <td>0</td>\n      <td>0.00</td>\n      <td>18713.72</td>\n    </tr>\n    <tr>\n      <th>Total</th>\n      <th></th>\n      <th></th>\n      <td>2653863.18</td>\n      <td>2784</td>\n      <td>514198.92</td>\n      <td>3170846.10</td>\n    </tr>\n  </tbody>\n</table>\n</div>",
            "text/plain": "BU                                                                                           ISS  \\\nSub region Sold To Customer Name                              Sales Order Identifier               \nBrazil     SCANSOURCE BRASIL DISTRIBUIDORA                    303827213                  4211.10   \nMCA        BANCO INTERNACIONAL DEL PERU S.A.A.                303826714                     0.00   \n                                                              303826788                     0.00   \n           BBVA COLOMBIA                                      303793001                357290.75   \n           Banco de Chile                                     303824470                     0.00   \n           COLOMBIA TELECOMUNICACIONES S A E S P              303749607                  1763.00   \n                                                              303795615                   154.12   \n           COMESTIBLES LA ROSA S.A                            303825922                  1000.00   \n           Interatec Llc                                      303824639                  1149.12   \n           Itau Corpbanca                                     303812884                     0.00   \n                                                              303813226                 99205.08   \n           OLD MUTUAL VALORES S A                             303824679                     4.33   \n           Pontificia Universidad Catolica de Chile*          303812885                     0.00   \n           TELEFONICA DEL PERU SAA                            303787060                 32312.08   \n           TERNIUM ARGENTINA S.A.                             303802871                  7466.88   \n           Telefonica Moviles Chile S.A.                      303786200                266852.65   \n                                                              303786892                164964.39   \n                                                              303789057                186416.39   \nMexico     AT&T Comunicaciones Digitales, S. de R.L. de C.V.  303786924                449956.98   \n           Banco Nacional de México, S.A., Integrante del ... 303812910                 29159.86   \n                                                              303812965                 29159.86   \n           ERICSSON TELECOM SA DE CV                          303801728                  2798.40   \n           FORD MOTOR COMPANY SA DE CV                        303828863                 34482.29   \n                                                              303829128                 13986.21   \n           Nokia de México, S.A. de C.V.                      303810140                 90922.53   \n           TERNIUM MEXICO S.A. DE C.V.                        303812863                  3873.35   \n           Triara.com, S.A. de C.V.                           303776532                     0.00   \n                                                              303776533                370075.23   \n                                                              303776628                479856.92   \n                                                              303776629                  2046.68   \n                                                              303777091                  2007.26   \n                                                              303777092                     0.00   \n                                                              303777288                  2007.26   \n                                                              303777344                  2026.74   \n                                                              303804673                 18713.72   \nTotal                                                                                 2653863.18   \n\nBU                                                                                    Mission Critical  \\\nSub region Sold To Customer Name                              Sales Order Identifier                     \nBrazil     SCANSOURCE BRASIL DISTRIBUIDORA                    303827213                              0   \nMCA        BANCO INTERNACIONAL DEL PERU S.A.A.                303826714                           1392   \n                                                              303826788                           1392   \n           BBVA COLOMBIA                                      303793001                              0   \n           Banco de Chile                                     303824470                              0   \n           COLOMBIA TELECOMUNICACIONES S A E S P              303749607                              0   \n                                                              303795615                              0   \n           COMESTIBLES LA ROSA S.A                            303825922                              0   \n           Interatec Llc                                      303824639                              0   \n           Itau Corpbanca                                     303812884                              0   \n                                                              303813226                              0   \n           OLD MUTUAL VALORES S A                             303824679                              0   \n           Pontificia Universidad Catolica de Chile*          303812885                              0   \n           TELEFONICA DEL PERU SAA                            303787060                              0   \n           TERNIUM ARGENTINA S.A.                             303802871                              0   \n           Telefonica Moviles Chile S.A.                      303786200                              0   \n                                                              303786892                              0   \n                                                              303789057                              0   \nMexico     AT&T Comunicaciones Digitales, S. de R.L. de C.V.  303786924                              0   \n           Banco Nacional de México, S.A., Integrante del ... 303812910                              0   \n                                                              303812965                              0   \n           ERICSSON TELECOM SA DE CV                          303801728                              0   \n           FORD MOTOR COMPANY SA DE CV                        303828863                              0   \n                                                              303829128                              0   \n           Nokia de México, S.A. de C.V.                      303810140                              0   \n           TERNIUM MEXICO S.A. DE C.V.                        303812863                              0   \n           Triara.com, S.A. de C.V.                           303776532                              0   \n                                                              303776533                              0   \n                                                              303776628                              0   \n                                                              303776629                              0   \n                                                              303777091                              0   \n                                                              303777092                              0   \n                                                              303777288                              0   \n                                                              303777344                              0   \n                                                              303804673                              0   \nTotal                                                                                             2784   \n\nBU                                                                                      Storage  \\\nSub region Sold To Customer Name                              Sales Order Identifier              \nBrazil     SCANSOURCE BRASIL DISTRIBUIDORA                    303827213                    0.00   \nMCA        BANCO INTERNACIONAL DEL PERU S.A.A.                303826714                    0.00   \n                                                              303826788                    0.00   \n           BBVA COLOMBIA                                      303793001                    0.00   \n           Banco de Chile                                     303824470               183163.29   \n           COLOMBIA TELECOMUNICACIONES S A E S P              303749607                    0.00   \n                                                              303795615               115881.00   \n           COMESTIBLES LA ROSA S.A                            303825922                    0.00   \n           Interatec Llc                                      303824639                  331.67   \n           Itau Corpbanca                                     303812884                75215.13   \n                                                              303813226                    0.00   \n           OLD MUTUAL VALORES S A                             303824679                    0.00   \n           Pontificia Universidad Catolica de Chile*          303812885                 1205.10   \n           TELEFONICA DEL PERU SAA                            303787060                    0.00   \n           TERNIUM ARGENTINA S.A.                             303802871                  868.68   \n           Telefonica Moviles Chile S.A.                      303786200                 8775.58   \n                                                              303786892                 5786.56   \n                                                              303789057                 5786.56   \nMexico     AT&T Comunicaciones Digitales, S. de R.L. de C.V.  303786924                    0.00   \n           Banco Nacional de México, S.A., Integrante del ... 303812910                    0.00   \n                                                              303812965                    0.00   \n           ERICSSON TELECOM SA DE CV                          303801728                    0.00   \n           FORD MOTOR COMPANY SA DE CV                        303828863                    0.00   \n                                                              303829128                    0.00   \n           Nokia de México, S.A. de C.V.                      303810140                    0.00   \n           TERNIUM MEXICO S.A. DE C.V.                        303812863                    0.00   \n           Triara.com, S.A. de C.V.                           303776532                  203.72   \n                                                              303776533                  100.27   \n                                                              303776628                  100.27   \n                                                              303776629                  307.43   \n                                                              303777091                66433.45   \n                                                              303777092                  203.72   \n                                                              303777288                49529.06   \n                                                              303777344                  307.43   \n                                                              303804673                    0.00   \nTotal                                                                                 514198.92   \n\nBU                                                                                         Total  \nSub region Sold To Customer Name                              Sales Order Identifier              \nBrazil     SCANSOURCE BRASIL DISTRIBUIDORA                    303827213                  4211.10  \nMCA        BANCO INTERNACIONAL DEL PERU S.A.A.                303826714                  1392.00  \n                                                              303826788                  1392.00  \n           BBVA COLOMBIA                                      303793001                357290.75  \n           Banco de Chile                                     303824470                183163.29  \n           COLOMBIA TELECOMUNICACIONES S A E S P              303749607                  1763.00  \n                                                              303795615                116035.12  \n           COMESTIBLES LA ROSA S.A                            303825922                  1000.00  \n           Interatec Llc                                      303824639                  1480.79  \n           Itau Corpbanca                                     303812884                 75215.13  \n                                                              303813226                 99205.08  \n           OLD MUTUAL VALORES S A                             303824679                     4.33  \n           Pontificia Universidad Catolica de Chile*          303812885                  1205.10  \n           TELEFONICA DEL PERU SAA                            303787060                 32312.08  \n           TERNIUM ARGENTINA S.A.                             303802871                  8335.56  \n           Telefonica Moviles Chile S.A.                      303786200                275628.23  \n                                                              303786892                170750.95  \n                                                              303789057                192202.95  \nMexico     AT&T Comunicaciones Digitales, S. de R.L. de C.V.  303786924                449956.98  \n           Banco Nacional de México, S.A., Integrante del ... 303812910                 29159.86  \n                                                              303812965                 29159.86  \n           ERICSSON TELECOM SA DE CV                          303801728                  2798.40  \n           FORD MOTOR COMPANY SA DE CV                        303828863                 34482.29  \n                                                              303829128                 13986.21  \n           Nokia de México, S.A. de C.V.                      303810140                 90922.53  \n           TERNIUM MEXICO S.A. DE C.V.                        303812863                  3873.35  \n           Triara.com, S.A. de C.V.                           303776532                   203.72  \n                                                              303776533                370175.50  \n                                                              303776628                479957.19  \n                                                              303776629                  2354.11  \n                                                              303777091                 68440.71  \n                                                              303777092                   203.72  \n                                                              303777288                 51536.32  \n                                                              303777344                  2334.17  \n                                                              303804673                 18713.72  \nTotal                                                                                 3170846.10  "
          },
          "metadata": {}
        }
      ]
    },
    {
      "metadata": {},
      "cell_type": "markdown",
      "source": "### Participation by Country"
    },
    {
      "metadata": {
        "trusted": true,
        "scrolled": true
      },
      "cell_type": "code",
      "source": "import matplotlib.pyplot as plot\ncolors = ['yellowgreen', 'gold', 'lightskyblue']\nplot = pivote_hoy_chart.plot.pie(y='EG AMS Net USD Amount', figsize=(5, 5),colors=colors, shadow=True, startangle=90, autopct='%.2f%%')\nplot.axis('off')",
      "execution_count": 23,
      "outputs": [
        {
          "output_type": "execute_result",
          "execution_count": 23,
          "data": {
            "text/plain": "(-1.25, 1.25, -1.25, 1.25)"
          },
          "metadata": {}
        },
        {
          "output_type": "display_data",
          "data": {
            "image/png": "[encoded data removed]",
            "text/plain": "<Figure size 360x360 with 1 Axes>"
          },
          "metadata": {}
        }
      ]
    },
    {
      "metadata": {},
      "cell_type": "markdown",
      "source": "### Today´s New End Users"
    },
    {
      "metadata": {
        "trusted": true
      },
      "cell_type": "code",
      "source": "pivote_diff",
      "execution_count": 21,
      "outputs": [
        {
          "output_type": "execute_result",
          "execution_count": 21,
          "data": {
            "text/html": "<div>\n<style scoped>\n    .dataframe tbody tr th:only-of-type {\n        vertical-align: middle;\n    }\n\n    .dataframe tbody tr th {\n        vertical-align: top;\n    }\n\n    .dataframe thead th {\n        text-align: right;\n    }\n</style>\n<table border=\"1\" class=\"dataframe\">\n  <thead>\n    <tr style=\"text-align: right;\">\n      <th></th>\n      <th></th>\n      <th>EG AMS Net USD Amount</th>\n    </tr>\n    <tr>\n      <th>Sub region</th>\n      <th>Sold To Customer Name</th>\n      <th></th>\n    </tr>\n  </thead>\n  <tbody>\n    <tr>\n      <th>MCA</th>\n      <th>Interatec Llc</th>\n      <td>1480.79</td>\n    </tr>\n  </tbody>\n</table>\n</div>",
            "text/plain": "                                  EG AMS Net USD Amount\nSub region Sold To Customer Name                       \nMCA        Interatec Llc                        1480.79"
          },
          "metadata": {}
        }
      ]
    },
    {
      "metadata": {},
      "cell_type": "markdown",
      "source": "### Today´s New Sales Orders"
    },
    {
      "metadata": {
        "trusted": true
      },
      "cell_type": "code",
      "source": "Order_hoy_pivote",
      "execution_count": 22,
      "outputs": [
        {
          "output_type": "execute_result",
          "execution_count": 22,
          "data": {
            "text/html": "<div>\n<style scoped>\n    .dataframe tbody tr th:only-of-type {\n        vertical-align: middle;\n    }\n\n    .dataframe tbody tr th {\n        vertical-align: top;\n    }\n\n    .dataframe thead th {\n        text-align: right;\n    }\n</style>\n<table border=\"1\" class=\"dataframe\">\n  <thead>\n    <tr style=\"text-align: right;\">\n      <th></th>\n      <th></th>\n      <th>BU</th>\n      <th>ISS</th>\n      <th>Storage</th>\n      <th>Total</th>\n    </tr>\n    <tr>\n      <th>Sub region</th>\n      <th>Sold To Customer Name</th>\n      <th>Sales Order Identifier</th>\n      <th></th>\n      <th></th>\n      <th></th>\n    </tr>\n  </thead>\n  <tbody>\n    <tr>\n      <th>MCA</th>\n      <th>Interatec Llc</th>\n      <th>303824639</th>\n      <td>1149.12</td>\n      <td>331.67</td>\n      <td>1480.79</td>\n    </tr>\n    <tr>\n      <th>Total</th>\n      <th></th>\n      <th></th>\n      <td>1149.12</td>\n      <td>331.67</td>\n      <td>1480.79</td>\n    </tr>\n  </tbody>\n</table>\n</div>",
            "text/plain": "BU                                                           ISS  Storage  \\\nSub region Sold To Customer Name Sales Order Identifier                     \nMCA        Interatec Llc         303824639               1149.12   331.67   \nTotal                                                    1149.12   331.67   \n\nBU                                                         Total  \nSub region Sold To Customer Name Sales Order Identifier           \nMCA        Interatec Llc         303824639               1480.79  \nTotal                                                    1480.79  "
          },
          "metadata": {}
        }
      ]
    },
    {
      "metadata": {
        "trusted": true
      },
      "cell_type": "code",
      "source": "",
      "execution_count": null,
      "outputs": []
    }
  ],
  "metadata": {
    "kernelspec": {
      "name": "python36",
      "display_name": "Python 3.6",
      "language": "python"
    },
    "language_info": {
      "mimetype": "text/x-python",
      "nbconvert_exporter": "python",
      "name": "python",
      "pygments_lexer": "ipython3",
      "version": "3.6.6",
      "file_extension": ".py",
      "codemirror_mode": {
        "version": 3,
        "name": "ipython"
      }
    }
  },
  "nbformat": 4,
  "nbformat_minor": 2
}