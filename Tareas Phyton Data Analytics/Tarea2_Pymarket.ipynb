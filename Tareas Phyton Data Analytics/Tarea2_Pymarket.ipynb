{
  "cells": [
    {
      "metadata": {
        "trusted": true
      },
      "cell_type": "code",
      "source": "import pandas as pd\nimport numpy as np",
      "execution_count": 17,
      "outputs": []
    },
    {
      "metadata": {},
      "cell_type": "markdown",
      "source": "# Read dataset"
    },
    {
      "metadata": {
        "trusted": true
      },
      "cell_type": "code",
      "source": "pymarket = pd.read_csv('pymarket.csv')\npymarket.head()",
      "execution_count": 18,
      "outputs": [
        {
          "output_type": "execute_result",
          "execution_count": 18,
          "data": {
            "text/html": "<div>\n<style scoped>\n    .dataframe tbody tr th:only-of-type {\n        vertical-align: middle;\n    }\n\n    .dataframe tbody tr th {\n        vertical-align: top;\n    }\n\n    .dataframe thead th {\n        text-align: right;\n    }\n</style>\n<table border=\"1\" class=\"dataframe\">\n  <thead>\n    <tr style=\"text-align: right;\">\n      <th></th>\n      <th>dates</th>\n      <th>Tom</th>\n      <th>Joe</th>\n      <th>Charlie</th>\n    </tr>\n  </thead>\n  <tbody>\n    <tr>\n      <th>0</th>\n      <td>10/16/2016</td>\n      <td>131.10</td>\n      <td>18.78</td>\n      <td>210.34</td>\n    </tr>\n    <tr>\n      <th>1</th>\n      <td>10/17/2016</td>\n      <td>459.13</td>\n      <td>424.17</td>\n      <td>176.03</td>\n    </tr>\n    <tr>\n      <th>2</th>\n      <td>10/18/2016</td>\n      <td>338.39</td>\n      <td>376.78</td>\n      <td>334.06</td>\n    </tr>\n    <tr>\n      <th>3</th>\n      <td>10/19/2016</td>\n      <td>361.32</td>\n      <td>349.26</td>\n      <td>456.03</td>\n    </tr>\n    <tr>\n      <th>4</th>\n      <td>10/20/2016</td>\n      <td>25.39</td>\n      <td>434.77</td>\n      <td>462.00</td>\n    </tr>\n  </tbody>\n</table>\n</div>",
            "text/plain": "        dates     Tom     Joe  Charlie\n0  10/16/2016  131.10   18.78   210.34\n1  10/17/2016  459.13  424.17   176.03\n2  10/18/2016  338.39  376.78   334.06\n3  10/19/2016  361.32  349.26   456.03\n4  10/20/2016   25.39  434.77   462.00"
          },
          "metadata": {}
        }
      ]
    },
    {
      "metadata": {
        "trusted": true
      },
      "cell_type": "code",
      "source": "pymarket['dates'] = pd.to_datetime(pymarket['dates'])\npymarket.set_index('dates',inplace=True)",
      "execution_count": 19,
      "outputs": []
    },
    {
      "metadata": {},
      "cell_type": "markdown",
      "source": "### 1) How much Tom has expended in Pymarket\nreturn a value"
    },
    {
      "metadata": {
        "trusted": true
      },
      "cell_type": "code",
      "source": "# Answer 1\npymarket['Tom'].sum()",
      "execution_count": 20,
      "outputs": [
        {
          "output_type": "execute_result",
          "execution_count": 20,
          "data": {
            "text/plain": "222564.53"
          },
          "metadata": {}
        }
      ]
    },
    {
      "metadata": {},
      "cell_type": "markdown",
      "source": "### 2) Total and mean of Tom and Joe expenses  \nreturn a dataframe cols: Tom and Joe ; index: sum and mea \nin that order"
    },
    {
      "metadata": {
        "trusted": true
      },
      "cell_type": "code",
      "source": "dataf = pd.DataFrame([pymarket.mean(),pymarket.sum()],columns={'Tom','Joe'}, index={'mean', 'sum'})\ndataf",
      "execution_count": 21,
      "outputs": [
        {
          "output_type": "execute_result",
          "execution_count": 21,
          "data": {
            "text/html": "<div>\n<style scoped>\n    .dataframe tbody tr th:only-of-type {\n        vertical-align: middle;\n    }\n\n    .dataframe tbody tr th {\n        vertical-align: top;\n    }\n\n    .dataframe thead th {\n        text-align: right;\n    }\n</style>\n<table border=\"1\" class=\"dataframe\">\n  <thead>\n    <tr style=\"text-align: right;\">\n      <th></th>\n      <th>Tom</th>\n      <th>Joe</th>\n    </tr>\n  </thead>\n  <tbody>\n    <tr>\n      <th>mean</th>\n      <td>244.307936</td>\n      <td>237.61557</td>\n    </tr>\n    <tr>\n      <th>sum</th>\n      <td>222564.530000</td>\n      <td>214566.86000</td>\n    </tr>\n  </tbody>\n</table>\n</div>",
            "text/plain": "                Tom           Joe\nmean     244.307936     237.61557\nsum   222564.530000  214566.86000"
          },
          "metadata": {}
        }
      ]
    },
    {
      "metadata": {},
      "cell_type": "markdown",
      "source": "### 3) Which are the days in which the friends expensed more than $100 together"
    },
    {
      "metadata": {
        "trusted": true
      },
      "cell_type": "code",
      "source": "#just print first 5 elements",
      "execution_count": 22,
      "outputs": []
    },
    {
      "metadata": {
        "trusted": true
      },
      "cell_type": "code",
      "source": "hund = pymarket.sort_values(by='dates', ascending=True).sum(axis=1)>100\nserie_hund =pd.Series(hund.head(5).index)\nserie_hund",
      "execution_count": 23,
      "outputs": [
        {
          "output_type": "execute_result",
          "execution_count": 23,
          "data": {
            "text/plain": "0   2016-10-16\n1   2016-10-17\n2   2016-10-18\n3   2016-10-19\n4   2016-10-20\nName: dates, dtype: datetime64[ns]"
          },
          "metadata": {}
        }
      ]
    },
    {
      "metadata": {},
      "cell_type": "markdown",
      "source": "### 4) Which are the days in which the friends didnt go to the market, any of them\nreturn list of string of dates from oldest to newest"
    },
    {
      "metadata": {
        "trusted": true
      },
      "cell_type": "code",
      "source": "# just print 5",
      "execution_count": 24,
      "outputs": []
    },
    {
      "metadata": {
        "trusted": true,
        "scrolled": true
      },
      "cell_type": "code",
      "source": "nan_rows = pymarket[pymarket.isnull().T.any()].any(1) \nnan_rows = list(nan_rows[nan_rows == False].index)\nnan_rows[:5]",
      "execution_count": 25,
      "outputs": [
        {
          "output_type": "execute_result",
          "execution_count": 25,
          "data": {
            "text/plain": "[Timestamp('2016-10-30 00:00:00'),\n Timestamp('2016-11-05 00:00:00'),\n Timestamp('2016-12-11 00:00:00'),\n Timestamp('2016-12-18 00:00:00'),\n Timestamp('2016-12-21 00:00:00')]"
          },
          "metadata": {}
        }
      ]
    },
    {
      "metadata": {},
      "cell_type": "markdown",
      "source": "### 5) Who spent more than the others and who spent less (Whole records)\nreturn tuple of the names (Who spend more,   Who spend less)"
    },
    {
      "metadata": {
        "trusted": true
      },
      "cell_type": "code",
      "source": "dataf = pd.DataFrame(pymarket.sum(), index ={'Tom','Joe','Charlie'},columns={'Sum'})\ntup = (dataf['Sum'].idxmax(),dataf['Sum'].idxmin())\ntup ",
      "execution_count": 26,
      "outputs": [
        {
          "output_type": "execute_result",
          "execution_count": 26,
          "data": {
            "text/plain": "('Charlie', 'Joe')"
          },
          "metadata": {}
        }
      ]
    },
    {
      "metadata": {},
      "cell_type": "markdown",
      "source": "### 6) Who was the guy that visit the market more frecuently\nreturn the name (string)"
    },
    {
      "metadata": {
        "trusted": true
      },
      "cell_type": "code",
      "source": "data_visit = pd.DataFrame(pymarket.count(), index ={'Tom','Joe','Charlie'},columns={'Count'})\nstr(data_visit.idxmax()[0])",
      "execution_count": 27,
      "outputs": [
        {
          "output_type": "execute_result",
          "execution_count": 27,
          "data": {
            "text/plain": "'Charlie'"
          },
          "metadata": {}
        }
      ]
    },
    {
      "metadata": {},
      "cell_type": "markdown",
      "source": "### 7) On average, who spends  more every bi-weekly?\nreturn a name (str)"
    },
    {
      "metadata": {
        "trusted": true
      },
      "cell_type": "code",
      "source": "idx = pymarket.index.values\nind = pd.date_range(idx.min(),idx.max(), freq='2W')",
      "execution_count": 28,
      "outputs": []
    },
    {
      "metadata": {
        "trusted": true
      },
      "cell_type": "code",
      "source": "bi = pd.DataFrame(pymarket,index = ind)\nbi.mean().idxmax()",
      "execution_count": 29,
      "outputs": [
        {
          "output_type": "execute_result",
          "execution_count": 29,
          "data": {
            "text/plain": "'Tom'"
          },
          "metadata": {}
        }
      ]
    },
    {
      "metadata": {},
      "cell_type": "markdown",
      "source": "### 8) Which are the dates in which each friend spends less than $10"
    },
    {
      "metadata": {
        "trusted": true
      },
      "cell_type": "code",
      "source": "ten = (pymarket.dropna(how='all').sort_values(by='dates', ascending=True).sum(axis=1))<=10\nten =list(ten[ten == True].index)\nten",
      "execution_count": 30,
      "outputs": [
        {
          "output_type": "execute_result",
          "execution_count": 30,
          "data": {
            "text/plain": "[Timestamp('2018-02-02 00:00:00'),\n Timestamp('2018-03-28 00:00:00'),\n Timestamp('2018-11-23 00:00:00')]"
          },
          "metadata": {}
        }
      ]
    },
    {
      "metadata": {},
      "cell_type": "markdown",
      "source": "### 9) Create a new column called 'Tips' and calculate the total amount payed by tips for all friends\nOur friends usually pay tips to the market. The value of tip is the value that rounds (ceil) the total cost by person.\nExample, if Tom pays \\\\$8.3, then the tip will be \\\\$0.7  \nReturn a dataframe with 'Tips' column\n"
    },
    {
      "metadata": {
        "trusted": true
      },
      "cell_type": "code",
      "source": "import math\npymarket['Tips'] = ((pymarket['Charlie'].apply(np.ceil) - pymarket['Charlie']) \n+ (pymarket['Tom'].apply(np.ceil) - pymarket['Tom'])\n+  (pymarket['Joe'].apply(np.ceil) - pymarket['Joe']))\nprint(pymarket)",
      "execution_count": 31,
      "outputs": [
        {
          "output_type": "stream",
          "text": "               Tom     Joe  Charlie  Tips\ndates                                    \n2016-10-16  131.10   18.78   210.34  1.78\n2016-10-17  459.13  424.17   176.03  2.67\n2016-10-18  338.39  376.78   334.06  1.77\n2016-10-19  361.32  349.26   456.03  2.39\n2016-10-20   25.39  434.77   462.00  0.84\n2016-10-21  181.40   66.56   448.09  1.95\n2016-10-22  348.83   65.75   277.36  1.06\n2016-10-23  128.45  259.85   466.54  1.16\n2016-10-24  209.89   69.28   440.32  1.51\n2016-10-25  455.62  211.44   442.32  1.62\n2016-10-26  153.31  375.98   242.87  0.84\n2016-10-27   41.23   81.32   349.58  1.87\n2016-10-28  104.30    1.17    29.83  1.70\n2016-10-29  233.28  307.79   223.90  1.03\n2016-10-30     NaN     NaN      NaN   NaN\n2016-10-31  157.89  307.97    10.94  0.20\n2016-11-01  368.54    9.53   102.79  1.14\n2016-11-02   12.63  109.49   370.30  1.58\n2016-11-03  274.58   26.76   184.61  1.05\n2016-11-04  178.88  124.60   456.79  0.73\n2016-11-05     NaN     NaN      NaN   NaN\n2016-11-06  460.23  344.74   418.06  1.97\n2016-11-07  403.20  285.98   233.88  0.94\n2016-11-08  158.18  305.76   468.17  1.89\n2016-11-09  363.91  101.18   221.77  1.14\n2016-11-10  200.13  328.89    76.88  1.10\n2016-11-11  428.24    2.88   182.16  1.72\n2016-11-12  497.72  262.48   153.21  1.59\n2016-11-13  389.42   74.77    88.80  1.01\n2016-11-14   92.34  168.19   167.65  1.82\n...            ...     ...      ...   ...\n2019-06-13  311.78    5.26     3.52  1.44\n2019-06-14  157.37  468.57    44.08  1.98\n2019-06-15  195.87  222.85   161.27  1.01\n2019-06-16  344.79  467.53    26.93  0.75\n2019-06-17  143.22    1.32   411.28  2.18\n2019-06-18   69.65  420.70   428.96  0.69\n2019-06-19  398.69  163.99   276.66  0.66\n2019-06-20  310.73  227.47   457.39  1.41\n2019-06-21  378.81  312.96   184.83  0.40\n2019-06-22   74.74  414.82   341.24  1.20\n2019-06-23     NaN   99.15   377.06   NaN\n2019-06-24   71.97  199.30   288.33  1.40\n2019-06-25  157.27  183.28   113.49  1.96\n2019-06-26   78.37   83.82    91.36  1.45\n2019-06-27  215.51  394.01    57.74  1.74\n2019-06-28  251.73   32.60   289.52  1.15\n2019-06-29  393.24  230.69    61.20  1.87\n2019-06-30  260.72   51.13   291.13  2.02\n2019-07-01  294.60   34.66   238.48  1.26\n2019-07-02  122.78  469.04   285.05  2.13\n2019-07-03  452.16  213.34   498.00  1.50\n2019-07-04  314.13   94.47   388.74  1.66\n2019-07-05  382.18  207.68    17.52  1.62\n2019-07-06  395.15  295.30    62.83  1.72\n2019-07-07  320.64  393.05    41.22  2.09\n2019-07-08  366.55  416.76    32.36  1.33\n2019-07-09  418.34  418.81    75.58  1.27\n2019-07-10     NaN   44.85    16.90   NaN\n2019-07-11  196.39     NaN   459.70   NaN\n2019-07-12  443.68  364.01   306.67  1.64\n\n[1000 rows x 4 columns]\n",
          "name": "stdout"
        }
      ]
    },
    {
      "metadata": {},
      "cell_type": "markdown",
      "source": "### 10)  Find out how much Tom and Charlie could have saved in total if the discount system were available when they started buy in Pymarket\nThe Pymarket  has decided to implement discounts system. Now for each purchase someone made in which spend more than $ 100, that person will receive a 7% discount  \nreturn tuple of *ints* of the save amount of money (Tom,Charlie)\n\n"
    },
    {
      "metadata": {
        "trusted": true
      },
      "cell_type": "code",
      "source": "Tom = pymarket.filter([\"Tom\"])\nCharlie = pymarket.filter([\"Charlie\"])\n\nTup_ahorro = (Tom[Tom['Tom'] >= 100].values.sum() * 0.07, Charlie[Charlie['Charlie'] >= 100].values.sum() * 0.07)\nTup_ahorro",
      "execution_count": 32,
      "outputs": [
        {
          "output_type": "execute_result",
          "execution_count": 32,
          "data": {
            "text/plain": "(14934.0646, 15709.092000000002)"
          },
          "metadata": {}
        }
      ]
    }
  ],
  "metadata": {
    "kernelspec": {
      "name": "python36",
      "display_name": "Python 3.6",
      "language": "python"
    },
    "language_info": {
      "mimetype": "text/x-python",
      "nbconvert_exporter": "python",
      "name": "python",
      "pygments_lexer": "ipython3",
      "version": "3.6.6",
      "file_extension": ".py",
      "codemirror_mode": {
        "version": 3,
        "name": "ipython"
      }
    }
  },
  "nbformat": 4,
  "nbformat_minor": 2
}
