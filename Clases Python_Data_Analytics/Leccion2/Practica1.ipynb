{
  "cells": [
    {
      "metadata": {
        "trusted": true
      },
      "cell_type": "code",
      "source": "'''\n1.Crear vectores de una sola dimensión y&x aleatorios, size 100, aleatorio, rango 0 -100\n2.Obtener a y b\n3. Crear un método/función f(x,a,b)-> y=ax+b\n'''",
      "execution_count": 1,
      "outputs": [
        {
          "output_type": "execute_result",
          "execution_count": 1,
          "data": {
            "text/plain": "'\\n1.Crear vectores de una sola dimensi\\xc3\\xb3n y&x aleatorios, size 100 aleatorio\\n2.Obtener a y b\\n'"
          },
          "metadata": {}
        }
      ]
    },
    {
      "metadata": {
        "trusted": true
      },
      "cell_type": "code",
      "source": "import numpy as np",
      "execution_count": 10,
      "outputs": []
    },
    {
      "metadata": {
        "trusted": true
      },
      "cell_type": "code",
      "source": "import numpy as np\n# Generate some random data\nx = np.random.randint(low=0,high=100,size=100)\ny = np.random.randint(low=0,high=100,size=100)\n#numpy.random.randint(low, high=None, size=None, dtype='l')\nx\ny\n",
      "execution_count": 81,
      "outputs": [
        {
          "output_type": "execute_result",
          "execution_count": 81,
          "data": {
            "text/plain": "array([ 4, 47, 79, 10, 69, 78, 61, 72, 89, 96, 97, 31, 90, 70, 62, 27,  6,\n       69, 53, 36, 71, 30, 72, 88, 60, 75, 36, 94, 89, 59, 61, 55, 23, 18,\n       56, 78, 42, 52, 27, 68, 56, 73, 20, 74, 36, 85, 63, 51, 17, 98, 22,\n       90, 11, 78,  0, 79, 65, 12, 71, 37, 89,  9, 78, 45, 64, 94, 39, 95,\n       99, 41, 26,  1, 76, 24, 75, 18, 29, 51, 15, 97, 22, 23, 72, 42, 18,\n        1, 44, 77, 88, 21, 53, 97, 77, 82, 89, 55, 59, 64,  7, 17])"
          },
          "metadata": {}
        }
      ]
    },
    {
      "metadata": {
        "trusted": true
      },
      "cell_type": "code",
      "source": "N = x.size\nN",
      "execution_count": 82,
      "outputs": [
        {
          "output_type": "execute_result",
          "execution_count": 82,
          "data": {
            "text/plain": "100"
          },
          "metadata": {}
        }
      ]
    },
    {
      "metadata": {
        "trusted": true
      },
      "cell_type": "code",
      "source": "sumaproductos = (x*y).sum()\nsumaproductos",
      "execution_count": 83,
      "outputs": [
        {
          "output_type": "execute_result",
          "execution_count": 83,
          "data": {
            "text/plain": "244794"
          },
          "metadata": {}
        }
      ]
    },
    {
      "metadata": {
        "trusted": true
      },
      "cell_type": "code",
      "source": "sumax = x.sum()\nsumax",
      "execution_count": 84,
      "outputs": [
        {
          "output_type": "execute_result",
          "execution_count": 84,
          "data": {
            "text/plain": "4563"
          },
          "metadata": {}
        }
      ]
    },
    {
      "metadata": {
        "trusted": true
      },
      "cell_type": "code",
      "source": "sumay = y.sum()\nsumay",
      "execution_count": 85,
      "outputs": [
        {
          "output_type": "execute_result",
          "execution_count": 85,
          "data": {
            "text/plain": "5411"
          },
          "metadata": {}
        }
      ]
    },
    {
      "metadata": {
        "trusted": true
      },
      "cell_type": "code",
      "source": "suma2 = (x**2).sum()\nsuma2",
      "execution_count": 86,
      "outputs": [
        {
          "output_type": "execute_result",
          "execution_count": 86,
          "data": {
            "text/plain": "291181"
          },
          "metadata": {}
        }
      ]
    },
    {
      "metadata": {
        "trusted": true
      },
      "cell_type": "code",
      "source": "suma_2 = (x.sum())**2",
      "execution_count": 87,
      "outputs": []
    },
    {
      "metadata": {
        "trusted": true
      },
      "cell_type": "code",
      "source": "denominador = N*suma2-suma_2\ndenominador",
      "execution_count": 88,
      "outputs": [
        {
          "output_type": "execute_result",
          "execution_count": 88,
          "data": {
            "text/plain": "8297131"
          },
          "metadata": {}
        }
      ]
    },
    {
      "metadata": {
        "trusted": true
      },
      "cell_type": "code",
      "source": "a= (N*sumaproductos-sumax*sumay)/denominador\na",
      "execution_count": 89,
      "outputs": [
        {
          "output_type": "execute_result",
          "execution_count": 89,
          "data": {
            "text/plain": "-1"
          },
          "metadata": {}
        }
      ]
    },
    {
      "metadata": {
        "trusted": true
      },
      "cell_type": "code",
      "source": "b =(suma2*sumay-sumax*sumaproductos)/denominador\nb",
      "execution_count": 90,
      "outputs": [
        {
          "output_type": "execute_result",
          "execution_count": 90,
          "data": {
            "text/plain": "55"
          },
          "metadata": {}
        }
      ]
    },
    {
      "metadata": {
        "trusted": true
      },
      "cell_type": "code",
      "source": "import numpy as np\nfrom matplotlib import pyplot as plt\n%matplotlib inline\nplt.scatter(x,y)\n#plt.plot(a*x+b)\nplt.title(\"Matplotlib demo\")\nplt.xlabel(\"x\")\nplt.ylabel(\"y\")\n",
      "execution_count": 94,
      "outputs": [
        {
          "output_type": "execute_result",
          "execution_count": 94,
          "data": {
            "text/plain": "Text(0,0.5,'y')"
          },
          "metadata": {}
        },
        {
          "output_type": "display_data",
          "data": {
            "image/png": "[encoded data removed]",
            "text/plain": "<Figure size 432x288 with 1 Axes>"
          },
          "metadata": {
            "needs_background": "light"
          }
        }
      ]
    },
    {
      "metadata": {
        "trusted": true
      },
      "cell_type": "code",
      "source": "#np.arrange(28).reshape(7,4)",
      "execution_count": null,
      "outputs": []
    }
  ],
  "metadata": {
    "kernelspec": {
      "name": "python2",
      "display_name": "Python 2",
      "language": "python"
    },
    "language_info": {
      "mimetype": "text/x-python",
      "nbconvert_exporter": "python",
      "name": "python",
      "pygments_lexer": "ipython2",
      "version": "2.7.15",
      "file_extension": ".py",
      "codemirror_mode": {
        "version": 2,
        "name": "ipython"
      }
    }
  },
  "nbformat": 4,
  "nbformat_minor": 1
}