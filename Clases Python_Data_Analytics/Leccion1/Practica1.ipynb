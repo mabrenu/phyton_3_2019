{
  "cells": [
    {
      "metadata": {
        "trusted": true
      },
      "cell_type": "code",
      "source": "import random\nimport numpy as np\nfrom datetime import datetime, timedelta\n\ninicio = datetime(2019, 1, 1)\nfavoritos_lst =[\n                ['Juan',88888888], \n                ['Pepe',11111111],\n                ['Charlie',22222222]\n            ]\n\n\nlista_llamadas= []\n\ndef favorito():\n    return np.random.randint(0,3)\n    \ndef duracion_llamada():\n    \n    #return timedelta(100,1000)\n    \n   \n\nfor i in range(1, 11):\n    dado_favoritos = favorito()\n    dado_duracion_llamada = duracion_llamada()\n    lista_llamadas.append([inicio,favoritos_lst[dado_favoritos], dado_duracion_llamada])\n    inicio= inicio + dado_duracion_llamada + timedelta(0,86400)\nprint(lista_llamadas)\n    \n\n\n\n",
      "execution_count": 151,
      "outputs": [
        {
          "output_type": "stream",
          "text": "[[datetime.datetime(2019, 1, 1, 0, 0), ['Charlie', 22222222], datetime.timedelta(100, 1000)], [datetime.datetime(2019, 4, 12, 0, 16, 40), ['Juan', 88888888], datetime.timedelta(100, 1000)], [datetime.datetime(2019, 7, 22, 0, 33, 20), ['Pepe', 11111111], datetime.timedelta(100, 1000)], [datetime.datetime(2019, 10, 31, 0, 50), ['Juan', 88888888], datetime.timedelta(100, 1000)], [datetime.datetime(2020, 2, 9, 1, 6, 40), ['Pepe', 11111111], datetime.timedelta(100, 1000)], [datetime.datetime(2020, 5, 20, 1, 23, 20), ['Pepe', 11111111], datetime.timedelta(100, 1000)], [datetime.datetime(2020, 8, 29, 1, 40), ['Juan', 88888888], datetime.timedelta(100, 1000)], [datetime.datetime(2020, 12, 8, 1, 56, 40), ['Juan', 88888888], datetime.timedelta(100, 1000)], [datetime.datetime(2021, 3, 19, 2, 13, 20), ['Charlie', 22222222], datetime.timedelta(100, 1000)], [datetime.datetime(2021, 6, 28, 2, 30), ['Juan', 88888888], datetime.timedelta(100, 1000)]]\n",
          "name": "stdout"
        }
      ]
    },
    {
      "metadata": {
        "trusted": true
      },
      "cell_type": "code",
      "source": "",
      "execution_count": null,
      "outputs": []
    },
    {
      "metadata": {
        "trusted": true
      },
      "cell_type": "code",
      "source": "",
      "execution_count": null,
      "outputs": []
    }
  ],
  "metadata": {
    "kernelspec": {
      "name": "python36",
      "display_name": "Python 3.6",
      "language": "python"
    },
    "language_info": {
      "mimetype": "text/x-python",
      "nbconvert_exporter": "python",
      "name": "python",
      "pygments_lexer": "ipython3",
      "version": "3.6.6",
      "file_extension": ".py",
      "codemirror_mode": {
        "version": 3,
        "name": "ipython"
      }
    }
  },
  "nbformat": 4,
  "nbformat_minor": 2
}