{
  "cells": [
    {
      "metadata": {
        "trusted": true
      },
      "cell_type": "code",
      "source": "#Caso práctico ",
      "execution_count": 9,
      "outputs": []
    },
    {
      "metadata": {
        "trusted": true
      },
      "cell_type": "code",
      "source": "import pandas as pd\ndf = pd.read_excel(\"https://github.com/chris1610/pbpython/blob/master/data/sample-salesv3.xlsx?raw=True\")",
      "execution_count": 1,
      "outputs": []
    },
    {
      "metadata": {
        "trusted": true
      },
      "cell_type": "code",
      "source": "df[\"date\"] = pd.to_datetime(df['date'])\n#Todo los datos son de tipo object menos los númerales",
      "execution_count": 2,
      "outputs": []
    },
    {
      "metadata": {
        "trusted": true
      },
      "cell_type": "code",
      "source": "df.head()",
      "execution_count": 3,
      "outputs": [
        {
          "output_type": "execute_result",
          "execution_count": 3,
          "data": {
            "text/html": "<div>\n<style scoped>\n    .dataframe tbody tr th:only-of-type {\n        vertical-align: middle;\n    }\n\n    .dataframe tbody tr th {\n        vertical-align: top;\n    }\n\n    .dataframe thead th {\n        text-align: right;\n    }\n</style>\n<table border=\"1\" class=\"dataframe\">\n  <thead>\n    <tr style=\"text-align: right;\">\n      <th></th>\n      <th>account number</th>\n      <th>name</th>\n      <th>sku</th>\n      <th>quantity</th>\n      <th>unit price</th>\n      <th>ext price</th>\n      <th>date</th>\n    </tr>\n  </thead>\n  <tbody>\n    <tr>\n      <th>0</th>\n      <td>740150</td>\n      <td>Barton LLC</td>\n      <td>B1-20000</td>\n      <td>39</td>\n      <td>86.69</td>\n      <td>3380.91</td>\n      <td>2014-01-01 07:21:51</td>\n    </tr>\n    <tr>\n      <th>1</th>\n      <td>714466</td>\n      <td>Trantow-Barrows</td>\n      <td>S2-77896</td>\n      <td>-1</td>\n      <td>63.16</td>\n      <td>-63.16</td>\n      <td>2014-01-01 10:00:47</td>\n    </tr>\n    <tr>\n      <th>2</th>\n      <td>218895</td>\n      <td>Kulas Inc</td>\n      <td>B1-69924</td>\n      <td>23</td>\n      <td>90.70</td>\n      <td>2086.10</td>\n      <td>2014-01-01 13:24:58</td>\n    </tr>\n    <tr>\n      <th>3</th>\n      <td>307599</td>\n      <td>Kassulke, Ondricka and Metz</td>\n      <td>S1-65481</td>\n      <td>41</td>\n      <td>21.05</td>\n      <td>863.05</td>\n      <td>2014-01-01 15:05:22</td>\n    </tr>\n    <tr>\n      <th>4</th>\n      <td>412290</td>\n      <td>Jerde-Hilpert</td>\n      <td>S2-34077</td>\n      <td>6</td>\n      <td>83.21</td>\n      <td>499.26</td>\n      <td>2014-01-01 23:26:55</td>\n    </tr>\n  </tbody>\n</table>\n</div>",
            "text/plain": "   account number                         name       sku  quantity  \\\n0          740150                   Barton LLC  B1-20000        39   \n1          714466              Trantow-Barrows  S2-77896        -1   \n2          218895                    Kulas Inc  B1-69924        23   \n3          307599  Kassulke, Ondricka and Metz  S1-65481        41   \n4          412290                Jerde-Hilpert  S2-34077         6   \n\n   unit price  ext price                date  \n0       86.69    3380.91 2014-01-01 07:21:51  \n1       63.16     -63.16 2014-01-01 10:00:47  \n2       90.70    2086.10 2014-01-01 13:24:58  \n3       21.05     863.05 2014-01-01 15:05:22  \n4       83.21     499.26 2014-01-01 23:26:55  "
          },
          "metadata": {}
        }
      ]
    },
    {
      "metadata": {
        "trusted": true
      },
      "cell_type": "code",
      "source": "df.dtypes\n# NaN = null números / Nat = time null",
      "execution_count": 4,
      "outputs": [
        {
          "output_type": "execute_result",
          "execution_count": 4,
          "data": {
            "text/plain": "account number             int64\nname                      object\nsku                       object\nquantity                   int64\nunit price               float64\next price                float64\ndate              datetime64[ns]\ndtype: object"
          },
          "metadata": {}
        }
      ]
    },
    {
      "metadata": {
        "trusted": true
      },
      "cell_type": "code",
      "source": "df.set_index('date').resample('M')[\"ext price\"].sum()\n#agruparlas por frecuencia 'M' resample('M') = último día del mes\n#[\"ext price\",\"colmna\"]",
      "execution_count": 5,
      "outputs": [
        {
          "output_type": "execute_result",
          "execution_count": 5,
          "data": {
            "text/plain": "date\n2014-01-31    185361.66\n2014-02-28    146211.62\n2014-03-31    203921.38\n2014-04-30    174574.11\n2014-05-31    165418.55\n2014-06-30    174089.33\n2014-07-31    191662.11\n2014-08-31    153778.59\n2014-09-30    168443.17\n2014-10-31    171495.32\n2014-11-30    119961.22\n2014-12-31    163867.26\nFreq: M, Name: ext price, dtype: float64"
          },
          "metadata": {}
        }
      ]
    },
    {
      "metadata": {
        "trusted": true
      },
      "cell_type": "code",
      "source": "df.set_index('date').resample('SM')[\"ext price\",\"quantity\"].sum()\n#cada quince dias",
      "execution_count": 6,
      "outputs": [
        {
          "output_type": "execute_result",
          "execution_count": 6,
          "data": {
            "text/html": "<div>\n<style scoped>\n    .dataframe tbody tr th:only-of-type {\n        vertical-align: middle;\n    }\n\n    .dataframe tbody tr th {\n        vertical-align: top;\n    }\n\n    .dataframe thead th {\n        text-align: right;\n    }\n</style>\n<table border=\"1\" class=\"dataframe\">\n  <thead>\n    <tr style=\"text-align: right;\">\n      <th></th>\n      <th>ext price</th>\n      <th>quantity</th>\n    </tr>\n    <tr>\n      <th>date</th>\n      <th></th>\n      <th></th>\n    </tr>\n  </thead>\n  <tbody>\n    <tr>\n      <th>2013-12-31</th>\n      <td>64976.97</td>\n      <td>1111</td>\n    </tr>\n    <tr>\n      <th>2014-01-15</th>\n      <td>113215.19</td>\n      <td>2014</td>\n    </tr>\n    <tr>\n      <th>2014-01-31</th>\n      <td>84013.78</td>\n      <td>1612</td>\n    </tr>\n    <tr>\n      <th>2014-02-15</th>\n      <td>63756.91</td>\n      <td>1067</td>\n    </tr>\n    <tr>\n      <th>2014-02-28</th>\n      <td>92496.05</td>\n      <td>1519</td>\n    </tr>\n    <tr>\n      <th>2014-03-15</th>\n      <td>106734.87</td>\n      <td>1842</td>\n    </tr>\n    <tr>\n      <th>2014-03-31</th>\n      <td>97021.15</td>\n      <td>1828</td>\n    </tr>\n    <tr>\n      <th>2014-04-15</th>\n      <td>84284.25</td>\n      <td>1575</td>\n    </tr>\n    <tr>\n      <th>2014-04-30</th>\n      <td>68772.82</td>\n      <td>1306</td>\n    </tr>\n    <tr>\n      <th>2014-05-15</th>\n      <td>93169.28</td>\n      <td>1655</td>\n    </tr>\n    <tr>\n      <th>2014-05-31</th>\n      <td>87176.44</td>\n      <td>1545</td>\n    </tr>\n    <tr>\n      <th>2014-06-15</th>\n      <td>91186.25</td>\n      <td>1596</td>\n    </tr>\n    <tr>\n      <th>2014-06-30</th>\n      <td>91277.53</td>\n      <td>1716</td>\n    </tr>\n    <tr>\n      <th>2014-07-15</th>\n      <td>102172.31</td>\n      <td>1701</td>\n    </tr>\n    <tr>\n      <th>2014-07-31</th>\n      <td>72876.58</td>\n      <td>1461</td>\n    </tr>\n    <tr>\n      <th>2014-08-15</th>\n      <td>75838.49</td>\n      <td>1390</td>\n    </tr>\n    <tr>\n      <th>2014-08-31</th>\n      <td>79881.74</td>\n      <td>1449</td>\n    </tr>\n    <tr>\n      <th>2014-09-15</th>\n      <td>87962.39</td>\n      <td>1682</td>\n    </tr>\n    <tr>\n      <th>2014-09-30</th>\n      <td>69578.78</td>\n      <td>1216</td>\n    </tr>\n    <tr>\n      <th>2014-10-15</th>\n      <td>104117.73</td>\n      <td>1726</td>\n    </tr>\n    <tr>\n      <th>2014-10-31</th>\n      <td>58049.35</td>\n      <td>1269</td>\n    </tr>\n    <tr>\n      <th>2014-11-15</th>\n      <td>62442.97</td>\n      <td>1202</td>\n    </tr>\n    <tr>\n      <th>2014-11-30</th>\n      <td>94858.44</td>\n      <td>1605</td>\n    </tr>\n    <tr>\n      <th>2014-12-15</th>\n      <td>70961.42</td>\n      <td>1335</td>\n    </tr>\n    <tr>\n      <th>2014-12-31</th>\n      <td>1962.63</td>\n      <td>41</td>\n    </tr>\n  </tbody>\n</table>\n</div>",
            "text/plain": "            ext price  quantity\ndate                           \n2013-12-31   64976.97      1111\n2014-01-15  113215.19      2014\n2014-01-31   84013.78      1612\n2014-02-15   63756.91      1067\n2014-02-28   92496.05      1519\n2014-03-15  106734.87      1842\n2014-03-31   97021.15      1828\n2014-04-15   84284.25      1575\n2014-04-30   68772.82      1306\n2014-05-15   93169.28      1655\n2014-05-31   87176.44      1545\n2014-06-15   91186.25      1596\n2014-06-30   91277.53      1716\n2014-07-15  102172.31      1701\n2014-07-31   72876.58      1461\n2014-08-15   75838.49      1390\n2014-08-31   79881.74      1449\n2014-09-15   87962.39      1682\n2014-09-30   69578.78      1216\n2014-10-15  104117.73      1726\n2014-10-31   58049.35      1269\n2014-11-15   62442.97      1202\n2014-11-30   94858.44      1605\n2014-12-15   70961.42      1335\n2014-12-31    1962.63        41"
          },
          "metadata": {}
        }
      ]
    },
    {
      "metadata": {
        "trusted": true
      },
      "cell_type": "code",
      "source": "df.set_index('date').resample('D')[\"ext price\",\"quantity\"].sum()\n#Diario\n#En números se usa el bining",
      "execution_count": 7,
      "outputs": [
        {
          "output_type": "execute_result",
          "execution_count": 7,
          "data": {
            "text/html": "<div>\n<style scoped>\n    .dataframe tbody tr th:only-of-type {\n        vertical-align: middle;\n    }\n\n    .dataframe tbody tr th {\n        vertical-align: top;\n    }\n\n    .dataframe thead th {\n        text-align: right;\n    }\n</style>\n<table border=\"1\" class=\"dataframe\">\n  <thead>\n    <tr style=\"text-align: right;\">\n      <th></th>\n      <th>ext price</th>\n      <th>quantity</th>\n    </tr>\n    <tr>\n      <th>date</th>\n      <th></th>\n      <th></th>\n    </tr>\n  </thead>\n  <tbody>\n    <tr>\n      <th>2014-01-01</th>\n      <td>6766.16</td>\n      <td>108</td>\n    </tr>\n    <tr>\n      <th>2014-01-02</th>\n      <td>1551.91</td>\n      <td>19</td>\n    </tr>\n    <tr>\n      <th>2014-01-03</th>\n      <td>4278.96</td>\n      <td>59</td>\n    </tr>\n    <tr>\n      <th>2014-01-04</th>\n      <td>6044.10</td>\n      <td>115</td>\n    </tr>\n    <tr>\n      <th>2014-01-05</th>\n      <td>1971.94</td>\n      <td>43</td>\n    </tr>\n    <tr>\n      <th>2014-01-06</th>\n      <td>7711.50</td>\n      <td>104</td>\n    </tr>\n    <tr>\n      <th>2014-01-07</th>\n      <td>73.75</td>\n      <td>5</td>\n    </tr>\n    <tr>\n      <th>2014-01-08</th>\n      <td>5179.96</td>\n      <td>94</td>\n    </tr>\n    <tr>\n      <th>2014-01-09</th>\n      <td>1632.52</td>\n      <td>59</td>\n    </tr>\n    <tr>\n      <th>2014-01-10</th>\n      <td>11654.65</td>\n      <td>202</td>\n    </tr>\n    <tr>\n      <th>2014-01-11</th>\n      <td>3510.98</td>\n      <td>44</td>\n    </tr>\n    <tr>\n      <th>2014-01-12</th>\n      <td>5334.22</td>\n      <td>84</td>\n    </tr>\n    <tr>\n      <th>2014-01-13</th>\n      <td>4295.74</td>\n      <td>99</td>\n    </tr>\n    <tr>\n      <th>2014-01-14</th>\n      <td>4970.58</td>\n      <td>76</td>\n    </tr>\n    <tr>\n      <th>2014-01-15</th>\n      <td>2634.38</td>\n      <td>53</td>\n    </tr>\n    <tr>\n      <th>2014-01-16</th>\n      <td>7140.99</td>\n      <td>120</td>\n    </tr>\n    <tr>\n      <th>2014-01-17</th>\n      <td>5392.75</td>\n      <td>110</td>\n    </tr>\n    <tr>\n      <th>2014-01-18</th>\n      <td>17417.03</td>\n      <td>292</td>\n    </tr>\n    <tr>\n      <th>2014-01-19</th>\n      <td>6258.27</td>\n      <td>102</td>\n    </tr>\n    <tr>\n      <th>2014-01-20</th>\n      <td>15965.67</td>\n      <td>228</td>\n    </tr>\n    <tr>\n      <th>2014-01-21</th>\n      <td>6641.43</td>\n      <td>113</td>\n    </tr>\n    <tr>\n      <th>2014-01-22</th>\n      <td>5740.73</td>\n      <td>113</td>\n    </tr>\n    <tr>\n      <th>2014-01-23</th>\n      <td>4904.56</td>\n      <td>88</td>\n    </tr>\n    <tr>\n      <th>2014-01-24</th>\n      <td>9742.49</td>\n      <td>155</td>\n    </tr>\n    <tr>\n      <th>2014-01-25</th>\n      <td>957.35</td>\n      <td>41</td>\n    </tr>\n    <tr>\n      <th>2014-01-26</th>\n      <td>8377.04</td>\n      <td>130</td>\n    </tr>\n    <tr>\n      <th>2014-01-27</th>\n      <td>6680.39</td>\n      <td>173</td>\n    </tr>\n    <tr>\n      <th>2014-01-28</th>\n      <td>7848.55</td>\n      <td>184</td>\n    </tr>\n    <tr>\n      <th>2014-01-29</th>\n      <td>0.00</td>\n      <td>0</td>\n    </tr>\n    <tr>\n      <th>2014-01-30</th>\n      <td>7513.56</td>\n      <td>112</td>\n    </tr>\n    <tr>\n      <th>...</th>\n      <td>...</td>\n      <td>...</td>\n    </tr>\n    <tr>\n      <th>2014-12-02</th>\n      <td>2138.97</td>\n      <td>37</td>\n    </tr>\n    <tr>\n      <th>2014-12-03</th>\n      <td>11285.32</td>\n      <td>146</td>\n    </tr>\n    <tr>\n      <th>2014-12-04</th>\n      <td>4533.06</td>\n      <td>83</td>\n    </tr>\n    <tr>\n      <th>2014-12-05</th>\n      <td>4856.66</td>\n      <td>68</td>\n    </tr>\n    <tr>\n      <th>2014-12-06</th>\n      <td>12866.49</td>\n      <td>176</td>\n    </tr>\n    <tr>\n      <th>2014-12-07</th>\n      <td>5023.65</td>\n      <td>113</td>\n    </tr>\n    <tr>\n      <th>2014-12-08</th>\n      <td>8146.82</td>\n      <td>116</td>\n    </tr>\n    <tr>\n      <th>2014-12-09</th>\n      <td>8960.99</td>\n      <td>164</td>\n    </tr>\n    <tr>\n      <th>2014-12-10</th>\n      <td>1945.77</td>\n      <td>39</td>\n    </tr>\n    <tr>\n      <th>2014-12-11</th>\n      <td>3582.56</td>\n      <td>103</td>\n    </tr>\n    <tr>\n      <th>2014-12-12</th>\n      <td>12627.73</td>\n      <td>224</td>\n    </tr>\n    <tr>\n      <th>2014-12-13</th>\n      <td>8550.33</td>\n      <td>129</td>\n    </tr>\n    <tr>\n      <th>2014-12-14</th>\n      <td>6190.95</td>\n      <td>117</td>\n    </tr>\n    <tr>\n      <th>2014-12-15</th>\n      <td>1584.62</td>\n      <td>22</td>\n    </tr>\n    <tr>\n      <th>2014-12-16</th>\n      <td>7212.85</td>\n      <td>128</td>\n    </tr>\n    <tr>\n      <th>2014-12-17</th>\n      <td>1131.30</td>\n      <td>27</td>\n    </tr>\n    <tr>\n      <th>2014-12-18</th>\n      <td>7867.85</td>\n      <td>111</td>\n    </tr>\n    <tr>\n      <th>2014-12-19</th>\n      <td>7207.70</td>\n      <td>100</td>\n    </tr>\n    <tr>\n      <th>2014-12-20</th>\n      <td>2098.15</td>\n      <td>81</td>\n    </tr>\n    <tr>\n      <th>2014-12-21</th>\n      <td>3507.08</td>\n      <td>50</td>\n    </tr>\n    <tr>\n      <th>2014-12-22</th>\n      <td>11982.75</td>\n      <td>203</td>\n    </tr>\n    <tr>\n      <th>2014-12-23</th>\n      <td>476.77</td>\n      <td>14</td>\n    </tr>\n    <tr>\n      <th>2014-12-24</th>\n      <td>7233.56</td>\n      <td>171</td>\n    </tr>\n    <tr>\n      <th>2014-12-25</th>\n      <td>5141.40</td>\n      <td>86</td>\n    </tr>\n    <tr>\n      <th>2014-12-26</th>\n      <td>4417.93</td>\n      <td>63</td>\n    </tr>\n    <tr>\n      <th>2014-12-27</th>\n      <td>-22.99</td>\n      <td>-1</td>\n    </tr>\n    <tr>\n      <th>2014-12-28</th>\n      <td>3572.45</td>\n      <td>91</td>\n    </tr>\n    <tr>\n      <th>2014-12-29</th>\n      <td>2670.34</td>\n      <td>91</td>\n    </tr>\n    <tr>\n      <th>2014-12-30</th>\n      <td>4879.66</td>\n      <td>98</td>\n    </tr>\n    <tr>\n      <th>2014-12-31</th>\n      <td>1962.63</td>\n      <td>41</td>\n    </tr>\n  </tbody>\n</table>\n<p>365 rows × 2 columns</p>\n</div>",
            "text/plain": "            ext price  quantity\ndate                           \n2014-01-01    6766.16       108\n2014-01-02    1551.91        19\n2014-01-03    4278.96        59\n2014-01-04    6044.10       115\n2014-01-05    1971.94        43\n2014-01-06    7711.50       104\n2014-01-07      73.75         5\n2014-01-08    5179.96        94\n2014-01-09    1632.52        59\n2014-01-10   11654.65       202\n2014-01-11    3510.98        44\n2014-01-12    5334.22        84\n2014-01-13    4295.74        99\n2014-01-14    4970.58        76\n2014-01-15    2634.38        53\n2014-01-16    7140.99       120\n2014-01-17    5392.75       110\n2014-01-18   17417.03       292\n2014-01-19    6258.27       102\n2014-01-20   15965.67       228\n2014-01-21    6641.43       113\n2014-01-22    5740.73       113\n2014-01-23    4904.56        88\n2014-01-24    9742.49       155\n2014-01-25     957.35        41\n2014-01-26    8377.04       130\n2014-01-27    6680.39       173\n2014-01-28    7848.55       184\n2014-01-29       0.00         0\n2014-01-30    7513.56       112\n...               ...       ...\n2014-12-02    2138.97        37\n2014-12-03   11285.32       146\n2014-12-04    4533.06        83\n2014-12-05    4856.66        68\n2014-12-06   12866.49       176\n2014-12-07    5023.65       113\n2014-12-08    8146.82       116\n2014-12-09    8960.99       164\n2014-12-10    1945.77        39\n2014-12-11    3582.56       103\n2014-12-12   12627.73       224\n2014-12-13    8550.33       129\n2014-12-14    6190.95       117\n2014-12-15    1584.62        22\n2014-12-16    7212.85       128\n2014-12-17    1131.30        27\n2014-12-18    7867.85       111\n2014-12-19    7207.70       100\n2014-12-20    2098.15        81\n2014-12-21    3507.08        50\n2014-12-22   11982.75       203\n2014-12-23     476.77        14\n2014-12-24    7233.56       171\n2014-12-25    5141.40        86\n2014-12-26    4417.93        63\n2014-12-27     -22.99        -1\n2014-12-28    3572.45        91\n2014-12-29    2670.34        91\n2014-12-30    4879.66        98\n2014-12-31    1962.63        41\n\n[365 rows x 2 columns]"
          },
          "metadata": {}
        }
      ]
    },
    {
      "metadata": {
        "trusted": true
      },
      "cell_type": "code",
      "source": "df.set_index('date').groupby('name')[\"ext price\"].resample(\"M\").sum()",
      "execution_count": 8,
      "outputs": [
        {
          "output_type": "execute_result",
          "execution_count": 8,
          "data": {
            "text/plain": "name                             date      \nBarton LLC                       2014-01-31     6177.57\n                                 2014-02-28    12218.03\n                                 2014-03-31     3513.53\n                                 2014-04-30    11474.20\n                                 2014-05-31    10220.17\n                                 2014-06-30    10463.73\n                                 2014-07-31     6750.48\n                                 2014-08-31    17541.46\n                                 2014-09-30    14053.61\n                                 2014-10-31     9351.68\n                                 2014-11-30     4901.14\n                                 2014-12-31     2772.90\nCronin, Oberbrunner and Spencer  2014-01-31     1141.75\n                                 2014-02-28    13976.26\n                                 2014-03-31    11691.62\n                                 2014-04-30     3685.44\n                                 2014-05-31     6760.11\n                                 2014-06-30     5379.67\n                                 2014-07-31     6020.30\n                                 2014-08-31     5399.58\n                                 2014-09-30    12693.74\n                                 2014-10-31     9324.37\n                                 2014-11-30     6021.11\n                                 2014-12-31     7640.60\nFrami, Hills and Schmidt         2014-01-31     5112.34\n                                 2014-02-28     4124.53\n                                 2014-03-31    10397.44\n                                 2014-04-30     5036.18\n                                 2014-05-31     4097.87\n                                 2014-06-30    13192.19\n                                                 ...   \nTrantow-Barrows                  2014-07-31    11987.34\n                                 2014-08-31    17251.65\n                                 2014-09-30     6992.48\n                                 2014-10-31    10064.27\n                                 2014-11-30     6550.10\n                                 2014-12-31    10124.23\nWhite-Trantow                    2014-01-31    13703.77\n                                 2014-02-28    11783.98\n                                 2014-03-31     8583.05\n                                 2014-04-30    19009.20\n                                 2014-05-31     5877.29\n                                 2014-06-30    14791.32\n                                 2014-07-31    10242.62\n                                 2014-08-31    12287.21\n                                 2014-09-30     5315.16\n                                 2014-10-31    19896.85\n                                 2014-11-30     9544.61\n                                 2014-12-31     4806.93\nWill LLC                         2014-01-31    20953.87\n                                 2014-02-28    13613.06\n                                 2014-03-31     9838.93\n                                 2014-04-30     6094.94\n                                 2014-05-31    11856.95\n                                 2014-06-30     2419.52\n                                 2014-07-31    11017.54\n                                 2014-08-31     1439.82\n                                 2014-09-30     4345.99\n                                 2014-10-31     7085.33\n                                 2014-11-30     3210.44\n                                 2014-12-31    12561.21\nName: ext price, Length: 240, dtype: float64"
          },
          "metadata": {}
        }
      ]
    },
    {
      "metadata": {
        "trusted": true
      },
      "cell_type": "code",
      "source": "df.groupby(['name', pd.Grouper(key='date', freq='M')])['ext price'].sum()",
      "execution_count": 9,
      "outputs": [
        {
          "output_type": "execute_result",
          "execution_count": 9,
          "data": {
            "text/plain": "name                             date      \nBarton LLC                       2014-01-31     6177.57\n                                 2014-02-28    12218.03\n                                 2014-03-31     3513.53\n                                 2014-04-30    11474.20\n                                 2014-05-31    10220.17\n                                 2014-06-30    10463.73\n                                 2014-07-31     6750.48\n                                 2014-08-31    17541.46\n                                 2014-09-30    14053.61\n                                 2014-10-31     9351.68\n                                 2014-11-30     4901.14\n                                 2014-12-31     2772.90\nCronin, Oberbrunner and Spencer  2014-01-31     1141.75\n                                 2014-02-28    13976.26\n                                 2014-03-31    11691.62\n                                 2014-04-30     3685.44\n                                 2014-05-31     6760.11\n                                 2014-06-30     5379.67\n                                 2014-07-31     6020.30\n                                 2014-08-31     5399.58\n                                 2014-09-30    12693.74\n                                 2014-10-31     9324.37\n                                 2014-11-30     6021.11\n                                 2014-12-31     7640.60\nFrami, Hills and Schmidt         2014-01-31     5112.34\n                                 2014-02-28     4124.53\n                                 2014-03-31    10397.44\n                                 2014-04-30     5036.18\n                                 2014-05-31     4097.87\n                                 2014-06-30    13192.19\n                                                 ...   \nTrantow-Barrows                  2014-07-31    11987.34\n                                 2014-08-31    17251.65\n                                 2014-09-30     6992.48\n                                 2014-10-31    10064.27\n                                 2014-11-30     6550.10\n                                 2014-12-31    10124.23\nWhite-Trantow                    2014-01-31    13703.77\n                                 2014-02-28    11783.98\n                                 2014-03-31     8583.05\n                                 2014-04-30    19009.20\n                                 2014-05-31     5877.29\n                                 2014-06-30    14791.32\n                                 2014-07-31    10242.62\n                                 2014-08-31    12287.21\n                                 2014-09-30     5315.16\n                                 2014-10-31    19896.85\n                                 2014-11-30     9544.61\n                                 2014-12-31     4806.93\nWill LLC                         2014-01-31    20953.87\n                                 2014-02-28    13613.06\n                                 2014-03-31     9838.93\n                                 2014-04-30     6094.94\n                                 2014-05-31    11856.95\n                                 2014-06-30     2419.52\n                                 2014-07-31    11017.54\n                                 2014-08-31     1439.82\n                                 2014-09-30     4345.99\n                                 2014-10-31     7085.33\n                                 2014-11-30     3210.44\n                                 2014-12-31    12561.21\nName: ext price, Length: 240, dtype: float64"
          },
          "metadata": {}
        }
      ]
    },
    {
      "metadata": {
        "trusted": true
      },
      "cell_type": "code",
      "source": "df.groupby(['name', pd.Grouper(key='date', freq='M')])['ext price'].sum().loc['Barton LLC']\n# Consultar por índice\n# Los dt retornan set, en el caso anterior name + date (multiindex) - monto",
      "execution_count": 10,
      "outputs": [
        {
          "output_type": "execute_result",
          "execution_count": 10,
          "data": {
            "text/plain": "date\n2014-01-31     6177.57\n2014-02-28    12218.03\n2014-03-31     3513.53\n2014-04-30    11474.20\n2014-05-31    10220.17\n2014-06-30    10463.73\n2014-07-31     6750.48\n2014-08-31    17541.46\n2014-09-30    14053.61\n2014-10-31     9351.68\n2014-11-30     4901.14\n2014-12-31     2772.90\nFreq: M, Name: ext price, dtype: float64"
          },
          "metadata": {}
        }
      ]
    },
    {
      "metadata": {
        "trusted": true
      },
      "cell_type": "code",
      "source": "df.groupby(['name', pd.Grouper(key='date', freq='A-DEC')])['ext price'].sum()\n#Año hasta el 31/12",
      "execution_count": 11,
      "outputs": [
        {
          "output_type": "execute_result",
          "execution_count": 11,
          "data": {
            "text/plain": "name                             date      \nBarton LLC                       2014-12-31    109438.50\nCronin, Oberbrunner and Spencer  2014-12-31     89734.55\nFrami, Hills and Schmidt         2014-12-31    103569.59\nFritsch, Russel and Anderson     2014-12-31    112214.71\nHalvorson, Crona and Champlin    2014-12-31     70004.36\nHerman LLC                       2014-12-31     82865.00\nJerde-Hilpert                    2014-12-31    112591.43\nKassulke, Ondricka and Metz      2014-12-31     86451.07\nKeeling LLC                      2014-12-31    100934.30\nKiehn-Spinka                     2014-12-31     99608.77\nKoepp Ltd                        2014-12-31    103660.54\nKuhn-Gusikowski                  2014-12-31     91094.28\nKulas Inc                        2014-12-31    137351.96\nPollich LLC                      2014-12-31     87347.18\nPurdy-Kunde                      2014-12-31     77898.21\nSanford and Sons                 2014-12-31     98822.98\nStokes LLC                       2014-12-31     91535.92\nTrantow-Barrows                  2014-12-31    123381.38\nWhite-Trantow                    2014-12-31    135841.99\nWill LLC                         2014-12-31    104437.60\nName: ext price, dtype: float64"
          },
          "metadata": {}
        }
      ]
    },
    {
      "metadata": {
        "trusted": true
      },
      "cell_type": "code",
      "source": "df[[\"ext price\", \"quantity\", \"unit price\"]].agg(['sum', 'mean'])",
      "execution_count": 12,
      "outputs": [
        {
          "output_type": "execute_result",
          "execution_count": 12,
          "data": {
            "text/html": "<div>\n<style scoped>\n    .dataframe tbody tr th:only-of-type {\n        vertical-align: middle;\n    }\n\n    .dataframe tbody tr th {\n        vertical-align: top;\n    }\n\n    .dataframe thead th {\n        text-align: right;\n    }\n</style>\n<table border=\"1\" class=\"dataframe\">\n  <thead>\n    <tr style=\"text-align: right;\">\n      <th></th>\n      <th>ext price</th>\n      <th>quantity</th>\n      <th>unit price</th>\n    </tr>\n  </thead>\n  <tbody>\n    <tr>\n      <th>sum</th>\n      <td>2.018784e+06</td>\n      <td>36463.000000</td>\n      <td>82511.290000</td>\n    </tr>\n    <tr>\n      <th>mean</th>\n      <td>1.345856e+03</td>\n      <td>24.308667</td>\n      <td>55.007527</td>\n    </tr>\n  </tbody>\n</table>\n</div>",
            "text/plain": "         ext price      quantity    unit price\nsum   2.018784e+06  36463.000000  82511.290000\nmean  1.345856e+03     24.308667     55.007527"
          },
          "metadata": {}
        }
      ]
    },
    {
      "metadata": {
        "trusted": true,
        "scrolled": true
      },
      "cell_type": "code",
      "source": "df.agg({'ext price': ['sum', 'mean'], 'quantity': ['sum', 'mean'], 'unit price': ['mean']})",
      "execution_count": 13,
      "outputs": [
        {
          "output_type": "execute_result",
          "execution_count": 13,
          "data": {
            "text/html": "<div>\n<style scoped>\n    .dataframe tbody tr th:only-of-type {\n        vertical-align: middle;\n    }\n\n    .dataframe tbody tr th {\n        vertical-align: top;\n    }\n\n    .dataframe thead th {\n        text-align: right;\n    }\n</style>\n<table border=\"1\" class=\"dataframe\">\n  <thead>\n    <tr style=\"text-align: right;\">\n      <th></th>\n      <th>ext price</th>\n      <th>quantity</th>\n      <th>unit price</th>\n    </tr>\n  </thead>\n  <tbody>\n    <tr>\n      <th>mean</th>\n      <td>1.345856e+03</td>\n      <td>24.308667</td>\n      <td>55.007527</td>\n    </tr>\n    <tr>\n      <th>sum</th>\n      <td>2.018784e+06</td>\n      <td>36463.000000</td>\n      <td>NaN</td>\n    </tr>\n  </tbody>\n</table>\n</div>",
            "text/plain": "         ext price      quantity  unit price\nmean  1.345856e+03     24.308667   55.007527\nsum   2.018784e+06  36463.000000         NaN"
          },
          "metadata": {}
        }
      ]
    },
    {
      "metadata": {
        "trusted": true
      },
      "cell_type": "code",
      "source": "get_max = lambda x: x.value_counts(dropna=False).index[0]\ndf.agg({'ext price': ['sum', 'mean'], 'quantity': ['sum', 'mean'], 'unit price': ['mean'], 'sku': [get_max]})\n#value_count= cuántos?, retorna un set, este siempre ordena desc\n#.index[-0] obtiene el último\n# o utilizar el sort.value",
      "execution_count": 14,
      "outputs": [
        {
          "output_type": "execute_result",
          "execution_count": 14,
          "data": {
            "text/html": "<div>\n<style scoped>\n    .dataframe tbody tr th:only-of-type {\n        vertical-align: middle;\n    }\n\n    .dataframe tbody tr th {\n        vertical-align: top;\n    }\n\n    .dataframe thead th {\n        text-align: right;\n    }\n</style>\n<table border=\"1\" class=\"dataframe\">\n  <thead>\n    <tr style=\"text-align: right;\">\n      <th></th>\n      <th>ext price</th>\n      <th>quantity</th>\n      <th>unit price</th>\n      <th>sku</th>\n    </tr>\n  </thead>\n  <tbody>\n    <tr>\n      <th>&lt;lambda&gt;</th>\n      <td>NaN</td>\n      <td>NaN</td>\n      <td>NaN</td>\n      <td>S2-77896</td>\n    </tr>\n    <tr>\n      <th>mean</th>\n      <td>1.345856e+03</td>\n      <td>24.308667</td>\n      <td>55.007527</td>\n      <td>NaN</td>\n    </tr>\n    <tr>\n      <th>sum</th>\n      <td>2.018784e+06</td>\n      <td>36463.000000</td>\n      <td>NaN</td>\n      <td>NaN</td>\n    </tr>\n  </tbody>\n</table>\n</div>",
            "text/plain": "             ext price      quantity  unit price       sku\n<lambda>           NaN           NaN         NaN  S2-77896\nmean      1.345856e+03     24.308667   55.007527       NaN\nsum       2.018784e+06  36463.000000         NaN       NaN"
          },
          "metadata": {}
        }
      ]
    },
    {
      "metadata": {
        "trusted": true
      },
      "cell_type": "code",
      "source": "get_max.__name__ = \"most frequent\"\n#cambio de nombre lambda a most frecuent",
      "execution_count": 15,
      "outputs": []
    },
    {
      "metadata": {
        "trusted": true
      },
      "cell_type": "code",
      "source": "df.agg({'ext price': ['sum', 'mean'], 'quantity': ['sum', 'mean'], 'unit price': ['mean'], 'sku': [get_max]})",
      "execution_count": 16,
      "outputs": [
        {
          "output_type": "execute_result",
          "execution_count": 16,
          "data": {
            "text/html": "<div>\n<style scoped>\n    .dataframe tbody tr th:only-of-type {\n        vertical-align: middle;\n    }\n\n    .dataframe tbody tr th {\n        vertical-align: top;\n    }\n\n    .dataframe thead th {\n        text-align: right;\n    }\n</style>\n<table border=\"1\" class=\"dataframe\">\n  <thead>\n    <tr style=\"text-align: right;\">\n      <th></th>\n      <th>ext price</th>\n      <th>quantity</th>\n      <th>unit price</th>\n      <th>sku</th>\n    </tr>\n  </thead>\n  <tbody>\n    <tr>\n      <th>mean</th>\n      <td>1.345856e+03</td>\n      <td>24.308667</td>\n      <td>55.007527</td>\n      <td>NaN</td>\n    </tr>\n    <tr>\n      <th>most frequent</th>\n      <td>NaN</td>\n      <td>NaN</td>\n      <td>NaN</td>\n      <td>S2-77896</td>\n    </tr>\n    <tr>\n      <th>sum</th>\n      <td>2.018784e+06</td>\n      <td>36463.000000</td>\n      <td>NaN</td>\n      <td>NaN</td>\n    </tr>\n  </tbody>\n</table>\n</div>",
            "text/plain": "                  ext price      quantity  unit price       sku\nmean           1.345856e+03     24.308667   55.007527       NaN\nmost frequent           NaN           NaN         NaN  S2-77896\nsum            2.018784e+06  36463.000000         NaN       NaN"
          },
          "metadata": {}
        }
      ]
    },
    {
      "metadata": {
        "trusted": true
      },
      "cell_type": "code",
      "source": "#control de las columnas",
      "execution_count": 17,
      "outputs": []
    },
    {
      "metadata": {
        "trusted": true,
        "scrolled": true
      },
      "cell_type": "code",
      "source": "import collections\nf = collections.OrderedDict([('sku', [get_max]),('ext price', ['sum', 'mean']), ('quantity', ['sum', 'mean'])])\ndf.agg(f)\n# Order de las columnas",
      "execution_count": 18,
      "outputs": [
        {
          "output_type": "execute_result",
          "execution_count": 18,
          "data": {
            "text/html": "<div>\n<style scoped>\n    .dataframe tbody tr th:only-of-type {\n        vertical-align: middle;\n    }\n\n    .dataframe tbody tr th {\n        vertical-align: top;\n    }\n\n    .dataframe thead th {\n        text-align: right;\n    }\n</style>\n<table border=\"1\" class=\"dataframe\">\n  <thead>\n    <tr style=\"text-align: right;\">\n      <th></th>\n      <th>sku</th>\n      <th>ext price</th>\n      <th>quantity</th>\n    </tr>\n  </thead>\n  <tbody>\n    <tr>\n      <th>mean</th>\n      <td>NaN</td>\n      <td>1.345856e+03</td>\n      <td>24.308667</td>\n    </tr>\n    <tr>\n      <th>most frequent</th>\n      <td>S2-77896</td>\n      <td>NaN</td>\n      <td>NaN</td>\n    </tr>\n    <tr>\n      <th>sum</th>\n      <td>NaN</td>\n      <td>2.018784e+06</td>\n      <td>36463.000000</td>\n    </tr>\n  </tbody>\n</table>\n</div>",
            "text/plain": "                    sku     ext price      quantity\nmean                NaN  1.345856e+03     24.308667\nmost frequent  S2-77896           NaN           NaN\nsum                 NaN  2.018784e+06  36463.000000"
          },
          "metadata": {}
        }
      ]
    },
    {
      "metadata": {
        "trusted": true
      },
      "cell_type": "code",
      "source": "#Cúal es el name que aparece más veces?\ndf.groupby(['name'])['name'].count().sort_values(ascending=False)",
      "execution_count": 19,
      "outputs": [
        {
          "output_type": "execute_result",
          "execution_count": 19,
          "data": {
            "text/plain": "name\nKulas Inc                          94\nTrantow-Barrows                    94\nJerde-Hilpert                      89\nWhite-Trantow                      86\nBarton LLC                         82\nKoepp Ltd                          82\nFritsch, Russel and Anderson       81\nKiehn-Spinka                       79\nKeeling LLC                        74\nWill LLC                           74\nKuhn-Gusikowski                    73\nPollich LLC                        73\nStokes LLC                         72\nFrami, Hills and Schmidt           72\nSanford and Sons                   71\nCronin, Oberbrunner and Spencer    67\nKassulke, Ondricka and Metz        64\nHerman LLC                         62\nHalvorson, Crona and Champlin      58\nPurdy-Kunde                        53\nName: name, dtype: int64"
          },
          "metadata": {}
        }
      ]
    },
    {
      "metadata": {
        "trusted": true
      },
      "cell_type": "code",
      "source": "df.groupby(['name'])['quantity'].sum().sort_values(ascending=False)\n#.index[0] primer valor",
      "execution_count": 20,
      "outputs": [
        {
          "output_type": "execute_result",
          "execution_count": 20,
          "data": {
            "text/plain": "name\nTrantow-Barrows                    2271\nKulas Inc                          2265\nWhite-Trantow                      2258\nFritsch, Russel and Anderson       2112\nBarton LLC                         2041\nJerde-Hilpert                      1999\nFrami, Hills and Schmidt           1903\nWill LLC                           1828\nKeeling LLC                        1806\nKoepp Ltd                          1790\nStokes LLC                         1766\nKiehn-Spinka                       1756\nPollich LLC                        1707\nSanford and Sons                   1704\nCronin, Oberbrunner and Spencer    1673\nKuhn-Gusikowski                    1665\nKassulke, Ondricka and Metz        1647\nHerman LLC                         1538\nPurdy-Kunde                        1450\nHalvorson, Crona and Champlin      1284\nName: quantity, dtype: int64"
          },
          "metadata": {}
        }
      ]
    },
    {
      "metadata": {
        "trusted": true
      },
      "cell_type": "code",
      "source": "#4. Cada name tiene un único Acount Number\ndf.groupby('name')['account number'].nunique()>1",
      "execution_count": 21,
      "outputs": [
        {
          "output_type": "execute_result",
          "execution_count": 21,
          "data": {
            "text/plain": "name\nBarton LLC                         False\nCronin, Oberbrunner and Spencer    False\nFrami, Hills and Schmidt           False\nFritsch, Russel and Anderson       False\nHalvorson, Crona and Champlin      False\nHerman LLC                         False\nJerde-Hilpert                      False\nKassulke, Ondricka and Metz        False\nKeeling LLC                        False\nKiehn-Spinka                       False\nKoepp Ltd                          False\nKuhn-Gusikowski                    False\nKulas Inc                          False\nPollich LLC                        False\nPurdy-Kunde                        False\nSanford and Sons                   False\nStokes LLC                         False\nTrantow-Barrows                    False\nWhite-Trantow                      False\nWill LLC                           False\nName: account number, dtype: bool"
          },
          "metadata": {}
        }
      ]
    },
    {
      "metadata": {
        "trusted": true
      },
      "cell_type": "code",
      "source": "",
      "execution_count": null,
      "outputs": []
    },
    {
      "metadata": {
        "trusted": true
      },
      "cell_type": "code",
      "source": "",
      "execution_count": null,
      "outputs": []
    }
  ],
  "metadata": {
    "kernelspec": {
      "name": "python36",
      "display_name": "Python 3.6",
      "language": "python"
    },
    "language_info": {
      "mimetype": "text/x-python",
      "nbconvert_exporter": "python",
      "name": "python",
      "pygments_lexer": "ipython3",
      "version": "3.6.6",
      "file_extension": ".py",
      "codemirror_mode": {
        "version": 3,
        "name": "ipython"
      }
    }
  },
  "nbformat": 4,
  "nbformat_minor": 2
}