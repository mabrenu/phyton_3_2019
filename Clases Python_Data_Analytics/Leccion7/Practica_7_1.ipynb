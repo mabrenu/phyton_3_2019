{
  "cells": [
    {
      "metadata": {
        "trusted": true
      },
      "cell_type": "code",
      "source": "#1.Crear dataframe con fechas del 7/1 al 7/20 en minutos, crear columna de datos con números aleatorios enteros del 0 al 9",
      "execution_count": 1,
      "outputs": []
    },
    {
      "metadata": {
        "trusted": true
      },
      "cell_type": "code",
      "source": "import pandas as pd\nfrom datetime import datetime\nimport numpy as np\ndate_rng = pd.date_range(start='1/7/2018', end='20/7/2018', freq='min')",
      "execution_count": 15,
      "outputs": []
    },
    {
      "metadata": {
        "trusted": true
      },
      "cell_type": "code",
      "source": "date_rng",
      "execution_count": 16,
      "outputs": [
        {
          "output_type": "execute_result",
          "execution_count": 16,
          "data": {
            "text/plain": "DatetimeIndex(['2018-01-07 00:00:00', '2018-01-07 00:01:00',\n               '2018-01-07 00:02:00', '2018-01-07 00:03:00',\n               '2018-01-07 00:04:00', '2018-01-07 00:05:00',\n               '2018-01-07 00:06:00', '2018-01-07 00:07:00',\n               '2018-01-07 00:08:00', '2018-01-07 00:09:00',\n               ...\n               '2018-07-19 23:51:00', '2018-07-19 23:52:00',\n               '2018-07-19 23:53:00', '2018-07-19 23:54:00',\n               '2018-07-19 23:55:00', '2018-07-19 23:56:00',\n               '2018-07-19 23:57:00', '2018-07-19 23:58:00',\n               '2018-07-19 23:59:00', '2018-07-20 00:00:00'],\n              dtype='datetime64[ns]', length=279361, freq='T')"
          },
          "metadata": {}
        }
      ]
    },
    {
      "metadata": {
        "trusted": true
      },
      "cell_type": "code",
      "source": "df = pd.DataFrame(date_rng, columns=['date'])\ndf['data'] = np.random.randint(0,9,size=(len(date_rng)))\ndf.head(20)",
      "execution_count": 17,
      "outputs": [
        {
          "output_type": "execute_result",
          "execution_count": 17,
          "data": {
            "text/html": "<div>\n<table border=\"1\" class=\"dataframe\">\n  <thead>\n    <tr style=\"text-align: right;\">\n      <th></th>\n      <th>date</th>\n      <th>data</th>\n    </tr>\n  </thead>\n  <tbody>\n    <tr>\n      <th>0</th>\n      <td>2018-01-07 00:00:00</td>\n      <td>4</td>\n    </tr>\n    <tr>\n      <th>1</th>\n      <td>2018-01-07 00:01:00</td>\n      <td>8</td>\n    </tr>\n    <tr>\n      <th>2</th>\n      <td>2018-01-07 00:02:00</td>\n      <td>3</td>\n    </tr>\n    <tr>\n      <th>3</th>\n      <td>2018-01-07 00:03:00</td>\n      <td>6</td>\n    </tr>\n    <tr>\n      <th>4</th>\n      <td>2018-01-07 00:04:00</td>\n      <td>0</td>\n    </tr>\n    <tr>\n      <th>5</th>\n      <td>2018-01-07 00:05:00</td>\n      <td>0</td>\n    </tr>\n    <tr>\n      <th>6</th>\n      <td>2018-01-07 00:06:00</td>\n      <td>8</td>\n    </tr>\n    <tr>\n      <th>7</th>\n      <td>2018-01-07 00:07:00</td>\n      <td>7</td>\n    </tr>\n    <tr>\n      <th>8</th>\n      <td>2018-01-07 00:08:00</td>\n      <td>3</td>\n    </tr>\n    <tr>\n      <th>9</th>\n      <td>2018-01-07 00:09:00</td>\n      <td>7</td>\n    </tr>\n    <tr>\n      <th>10</th>\n      <td>2018-01-07 00:10:00</td>\n      <td>1</td>\n    </tr>\n    <tr>\n      <th>11</th>\n      <td>2018-01-07 00:11:00</td>\n      <td>2</td>\n    </tr>\n    <tr>\n      <th>12</th>\n      <td>2018-01-07 00:12:00</td>\n      <td>4</td>\n    </tr>\n    <tr>\n      <th>13</th>\n      <td>2018-01-07 00:13:00</td>\n      <td>3</td>\n    </tr>\n    <tr>\n      <th>14</th>\n      <td>2018-01-07 00:14:00</td>\n      <td>3</td>\n    </tr>\n    <tr>\n      <th>15</th>\n      <td>2018-01-07 00:15:00</td>\n      <td>2</td>\n    </tr>\n    <tr>\n      <th>16</th>\n      <td>2018-01-07 00:16:00</td>\n      <td>6</td>\n    </tr>\n    <tr>\n      <th>17</th>\n      <td>2018-01-07 00:17:00</td>\n      <td>3</td>\n    </tr>\n    <tr>\n      <th>18</th>\n      <td>2018-01-07 00:18:00</td>\n      <td>8</td>\n    </tr>\n    <tr>\n      <th>19</th>\n      <td>2018-01-07 00:19:00</td>\n      <td>1</td>\n    </tr>\n  </tbody>\n</table>\n</div>",
            "text/plain": "                  date  data\n0  2018-01-07 00:00:00     4\n1  2018-01-07 00:01:00     8\n2  2018-01-07 00:02:00     3\n3  2018-01-07 00:03:00     6\n4  2018-01-07 00:04:00     0\n5  2018-01-07 00:05:00     0\n6  2018-01-07 00:06:00     8\n7  2018-01-07 00:07:00     7\n8  2018-01-07 00:08:00     3\n9  2018-01-07 00:09:00     7\n10 2018-01-07 00:10:00     1\n11 2018-01-07 00:11:00     2\n12 2018-01-07 00:12:00     4\n13 2018-01-07 00:13:00     3\n14 2018-01-07 00:14:00     3\n15 2018-01-07 00:15:00     2\n16 2018-01-07 00:16:00     6\n17 2018-01-07 00:17:00     3\n18 2018-01-07 00:18:00     8\n19 2018-01-07 00:19:00     1"
          },
          "metadata": {}
        }
      ]
    },
    {
      "metadata": {
        "trusted": true
      },
      "cell_type": "code",
      "source": "#2.Poner la fecha como índice\n#3. Asegurarse que es datetime",
      "execution_count": 18,
      "outputs": []
    },
    {
      "metadata": {
        "trusted": true
      },
      "cell_type": "code",
      "source": "df['datetime'] = pd.to_datetime(df['date'])\ndf = df.set_index('datetime')\ndf.drop(['date'], axis=1, inplace=True)\ndf.head()",
      "execution_count": 19,
      "outputs": [
        {
          "output_type": "execute_result",
          "execution_count": 19,
          "data": {
            "text/html": "<div>\n<table border=\"1\" class=\"dataframe\">\n  <thead>\n    <tr style=\"text-align: right;\">\n      <th></th>\n      <th>data</th>\n    </tr>\n    <tr>\n      <th>datetime</th>\n      <th></th>\n    </tr>\n  </thead>\n  <tbody>\n    <tr>\n      <th>2018-01-07 00:00:00</th>\n      <td>4</td>\n    </tr>\n    <tr>\n      <th>2018-01-07 00:01:00</th>\n      <td>8</td>\n    </tr>\n    <tr>\n      <th>2018-01-07 00:02:00</th>\n      <td>3</td>\n    </tr>\n    <tr>\n      <th>2018-01-07 00:03:00</th>\n      <td>6</td>\n    </tr>\n    <tr>\n      <th>2018-01-07 00:04:00</th>\n      <td>0</td>\n    </tr>\n  </tbody>\n</table>\n</div>",
            "text/plain": "                     data\ndatetime                 \n2018-01-07 00:00:00     4\n2018-01-07 00:01:00     8\n2018-01-07 00:02:00     3\n2018-01-07 00:03:00     6\n2018-01-07 00:04:00     0"
          },
          "metadata": {}
        }
      ]
    },
    {
      "metadata": {
        "trusted": true
      },
      "cell_type": "code",
      "source": "type(df.index)",
      "execution_count": 20,
      "outputs": [
        {
          "output_type": "execute_result",
          "execution_count": 20,
          "data": {
            "text/plain": "pandas.tseries.index.DatetimeIndex"
          },
          "metadata": {}
        }
      ]
    },
    {
      "metadata": {
        "trusted": true
      },
      "cell_type": "code",
      "source": "#4. Aplicar rolling sum de 2 en 2",
      "execution_count": 21,
      "outputs": []
    },
    {
      "metadata": {
        "trusted": true
      },
      "cell_type": "code",
      "source": "df['rolling_sum'] = df.rolling(2).sum()\ndf.head(10)",
      "execution_count": 22,
      "outputs": [
        {
          "output_type": "execute_result",
          "execution_count": 22,
          "data": {
            "text/html": "<div>\n<table border=\"1\" class=\"dataframe\">\n  <thead>\n    <tr style=\"text-align: right;\">\n      <th></th>\n      <th>data</th>\n      <th>rolling_sum</th>\n    </tr>\n    <tr>\n      <th>datetime</th>\n      <th></th>\n      <th></th>\n    </tr>\n  </thead>\n  <tbody>\n    <tr>\n      <th>2018-01-07 00:00:00</th>\n      <td>4</td>\n      <td>NaN</td>\n    </tr>\n    <tr>\n      <th>2018-01-07 00:01:00</th>\n      <td>8</td>\n      <td>12.0</td>\n    </tr>\n    <tr>\n      <th>2018-01-07 00:02:00</th>\n      <td>3</td>\n      <td>11.0</td>\n    </tr>\n    <tr>\n      <th>2018-01-07 00:03:00</th>\n      <td>6</td>\n      <td>9.0</td>\n    </tr>\n    <tr>\n      <th>2018-01-07 00:04:00</th>\n      <td>0</td>\n      <td>6.0</td>\n    </tr>\n    <tr>\n      <th>2018-01-07 00:05:00</th>\n      <td>0</td>\n      <td>0.0</td>\n    </tr>\n    <tr>\n      <th>2018-01-07 00:06:00</th>\n      <td>8</td>\n      <td>8.0</td>\n    </tr>\n    <tr>\n      <th>2018-01-07 00:07:00</th>\n      <td>7</td>\n      <td>15.0</td>\n    </tr>\n    <tr>\n      <th>2018-01-07 00:08:00</th>\n      <td>3</td>\n      <td>10.0</td>\n    </tr>\n    <tr>\n      <th>2018-01-07 00:09:00</th>\n      <td>7</td>\n      <td>10.0</td>\n    </tr>\n  </tbody>\n</table>\n</div>",
            "text/plain": "                     data  rolling_sum\ndatetime                              \n2018-01-07 00:00:00     4          NaN\n2018-01-07 00:01:00     8         12.0\n2018-01-07 00:02:00     3         11.0\n2018-01-07 00:03:00     6          9.0\n2018-01-07 00:04:00     0          6.0\n2018-01-07 00:05:00     0          0.0\n2018-01-07 00:06:00     8          8.0\n2018-01-07 00:07:00     7         15.0\n2018-01-07 00:08:00     3         10.0\n2018-01-07 00:09:00     7         10.0"
          },
          "metadata": {}
        }
      ]
    },
    {
      "metadata": {
        "trusted": true
      },
      "cell_type": "code",
      "source": "#rango de fechas 7/10 al 7/11 anular los datos",
      "execution_count": 23,
      "outputs": []
    },
    {
      "metadata": {
        "trusted": true
      },
      "cell_type": "code",
      "source": "#a= \n#df['2018-07-10 00:00:00':'2018-07-11 23:59:59']= df['2018-07-10 00:00:00':'2018-07-11 23:59:59'].replace(df['2018-07-10 00:00:00':'2018-07-11 23:59:59'],np.nan)\n#df\n#a = a.replace(a['data'],np.nan)\n#a\n\n\n",
      "execution_count": 24,
      "outputs": []
    },
    {
      "metadata": {
        "trusted": true
      },
      "cell_type": "code",
      "source": "\ndf['2018-07-10 00:00:00':'2018-07-11 23:59:59']=np.nan\ndf",
      "execution_count": 25,
      "outputs": [
        {
          "output_type": "execute_result",
          "execution_count": 25,
          "data": {
            "text/html": "<div>\n<table border=\"1\" class=\"dataframe\">\n  <thead>\n    <tr style=\"text-align: right;\">\n      <th></th>\n      <th>data</th>\n      <th>rolling_sum</th>\n    </tr>\n    <tr>\n      <th>datetime</th>\n      <th></th>\n      <th></th>\n    </tr>\n  </thead>\n  <tbody>\n    <tr>\n      <th>2018-01-07 00:00:00</th>\n      <td>4.0</td>\n      <td>NaN</td>\n    </tr>\n    <tr>\n      <th>2018-01-07 00:01:00</th>\n      <td>8.0</td>\n      <td>12.0</td>\n    </tr>\n    <tr>\n      <th>2018-01-07 00:02:00</th>\n      <td>3.0</td>\n      <td>11.0</td>\n    </tr>\n    <tr>\n      <th>2018-01-07 00:03:00</th>\n      <td>6.0</td>\n      <td>9.0</td>\n    </tr>\n    <tr>\n      <th>2018-01-07 00:04:00</th>\n      <td>0.0</td>\n      <td>6.0</td>\n    </tr>\n    <tr>\n      <th>2018-01-07 00:05:00</th>\n      <td>0.0</td>\n      <td>0.0</td>\n    </tr>\n    <tr>\n      <th>2018-01-07 00:06:00</th>\n      <td>8.0</td>\n      <td>8.0</td>\n    </tr>\n    <tr>\n      <th>2018-01-07 00:07:00</th>\n      <td>7.0</td>\n      <td>15.0</td>\n    </tr>\n    <tr>\n      <th>2018-01-07 00:08:00</th>\n      <td>3.0</td>\n      <td>10.0</td>\n    </tr>\n    <tr>\n      <th>2018-01-07 00:09:00</th>\n      <td>7.0</td>\n      <td>10.0</td>\n    </tr>\n    <tr>\n      <th>2018-01-07 00:10:00</th>\n      <td>1.0</td>\n      <td>8.0</td>\n    </tr>\n    <tr>\n      <th>2018-01-07 00:11:00</th>\n      <td>2.0</td>\n      <td>3.0</td>\n    </tr>\n    <tr>\n      <th>2018-01-07 00:12:00</th>\n      <td>4.0</td>\n      <td>6.0</td>\n    </tr>\n    <tr>\n      <th>2018-01-07 00:13:00</th>\n      <td>3.0</td>\n      <td>7.0</td>\n    </tr>\n    <tr>\n      <th>2018-01-07 00:14:00</th>\n      <td>3.0</td>\n      <td>6.0</td>\n    </tr>\n    <tr>\n      <th>2018-01-07 00:15:00</th>\n      <td>2.0</td>\n      <td>5.0</td>\n    </tr>\n    <tr>\n      <th>2018-01-07 00:16:00</th>\n      <td>6.0</td>\n      <td>8.0</td>\n    </tr>\n    <tr>\n      <th>2018-01-07 00:17:00</th>\n      <td>3.0</td>\n      <td>9.0</td>\n    </tr>\n    <tr>\n      <th>2018-01-07 00:18:00</th>\n      <td>8.0</td>\n      <td>11.0</td>\n    </tr>\n    <tr>\n      <th>2018-01-07 00:19:00</th>\n      <td>1.0</td>\n      <td>9.0</td>\n    </tr>\n    <tr>\n      <th>2018-01-07 00:20:00</th>\n      <td>5.0</td>\n      <td>6.0</td>\n    </tr>\n    <tr>\n      <th>2018-01-07 00:21:00</th>\n      <td>7.0</td>\n      <td>12.0</td>\n    </tr>\n    <tr>\n      <th>2018-01-07 00:22:00</th>\n      <td>4.0</td>\n      <td>11.0</td>\n    </tr>\n    <tr>\n      <th>2018-01-07 00:23:00</th>\n      <td>3.0</td>\n      <td>7.0</td>\n    </tr>\n    <tr>\n      <th>2018-01-07 00:24:00</th>\n      <td>1.0</td>\n      <td>4.0</td>\n    </tr>\n    <tr>\n      <th>2018-01-07 00:25:00</th>\n      <td>2.0</td>\n      <td>3.0</td>\n    </tr>\n    <tr>\n      <th>2018-01-07 00:26:00</th>\n      <td>1.0</td>\n      <td>3.0</td>\n    </tr>\n    <tr>\n      <th>2018-01-07 00:27:00</th>\n      <td>8.0</td>\n      <td>9.0</td>\n    </tr>\n    <tr>\n      <th>2018-01-07 00:28:00</th>\n      <td>4.0</td>\n      <td>12.0</td>\n    </tr>\n    <tr>\n      <th>2018-01-07 00:29:00</th>\n      <td>2.0</td>\n      <td>6.0</td>\n    </tr>\n    <tr>\n      <th>...</th>\n      <td>...</td>\n      <td>...</td>\n    </tr>\n    <tr>\n      <th>2018-07-19 23:31:00</th>\n      <td>3.0</td>\n      <td>8.0</td>\n    </tr>\n    <tr>\n      <th>2018-07-19 23:32:00</th>\n      <td>0.0</td>\n      <td>3.0</td>\n    </tr>\n    <tr>\n      <th>2018-07-19 23:33:00</th>\n      <td>4.0</td>\n      <td>4.0</td>\n    </tr>\n    <tr>\n      <th>2018-07-19 23:34:00</th>\n      <td>8.0</td>\n      <td>12.0</td>\n    </tr>\n    <tr>\n      <th>2018-07-19 23:35:00</th>\n      <td>4.0</td>\n      <td>12.0</td>\n    </tr>\n    <tr>\n      <th>2018-07-19 23:36:00</th>\n      <td>7.0</td>\n      <td>11.0</td>\n    </tr>\n    <tr>\n      <th>2018-07-19 23:37:00</th>\n      <td>4.0</td>\n      <td>11.0</td>\n    </tr>\n    <tr>\n      <th>2018-07-19 23:38:00</th>\n      <td>4.0</td>\n      <td>8.0</td>\n    </tr>\n    <tr>\n      <th>2018-07-19 23:39:00</th>\n      <td>2.0</td>\n      <td>6.0</td>\n    </tr>\n    <tr>\n      <th>2018-07-19 23:40:00</th>\n      <td>2.0</td>\n      <td>4.0</td>\n    </tr>\n    <tr>\n      <th>2018-07-19 23:41:00</th>\n      <td>8.0</td>\n      <td>10.0</td>\n    </tr>\n    <tr>\n      <th>2018-07-19 23:42:00</th>\n      <td>3.0</td>\n      <td>11.0</td>\n    </tr>\n    <tr>\n      <th>2018-07-19 23:43:00</th>\n      <td>3.0</td>\n      <td>6.0</td>\n    </tr>\n    <tr>\n      <th>2018-07-19 23:44:00</th>\n      <td>2.0</td>\n      <td>5.0</td>\n    </tr>\n    <tr>\n      <th>2018-07-19 23:45:00</th>\n      <td>3.0</td>\n      <td>5.0</td>\n    </tr>\n    <tr>\n      <th>2018-07-19 23:46:00</th>\n      <td>6.0</td>\n      <td>9.0</td>\n    </tr>\n    <tr>\n      <th>2018-07-19 23:47:00</th>\n      <td>5.0</td>\n      <td>11.0</td>\n    </tr>\n    <tr>\n      <th>2018-07-19 23:48:00</th>\n      <td>3.0</td>\n      <td>8.0</td>\n    </tr>\n    <tr>\n      <th>2018-07-19 23:49:00</th>\n      <td>6.0</td>\n      <td>9.0</td>\n    </tr>\n    <tr>\n      <th>2018-07-19 23:50:00</th>\n      <td>1.0</td>\n      <td>7.0</td>\n    </tr>\n    <tr>\n      <th>2018-07-19 23:51:00</th>\n      <td>7.0</td>\n      <td>8.0</td>\n    </tr>\n    <tr>\n      <th>2018-07-19 23:52:00</th>\n      <td>7.0</td>\n      <td>14.0</td>\n    </tr>\n    <tr>\n      <th>2018-07-19 23:53:00</th>\n      <td>8.0</td>\n      <td>15.0</td>\n    </tr>\n    <tr>\n      <th>2018-07-19 23:54:00</th>\n      <td>8.0</td>\n      <td>16.0</td>\n    </tr>\n    <tr>\n      <th>2018-07-19 23:55:00</th>\n      <td>7.0</td>\n      <td>15.0</td>\n    </tr>\n    <tr>\n      <th>2018-07-19 23:56:00</th>\n      <td>1.0</td>\n      <td>8.0</td>\n    </tr>\n    <tr>\n      <th>2018-07-19 23:57:00</th>\n      <td>4.0</td>\n      <td>5.0</td>\n    </tr>\n    <tr>\n      <th>2018-07-19 23:58:00</th>\n      <td>2.0</td>\n      <td>6.0</td>\n    </tr>\n    <tr>\n      <th>2018-07-19 23:59:00</th>\n      <td>1.0</td>\n      <td>3.0</td>\n    </tr>\n    <tr>\n      <th>2018-07-20 00:00:00</th>\n      <td>0.0</td>\n      <td>1.0</td>\n    </tr>\n  </tbody>\n</table>\n<p>279361 rows × 2 columns</p>\n</div>",
            "text/plain": "                     data  rolling_sum\ndatetime                              \n2018-01-07 00:00:00   4.0          NaN\n2018-01-07 00:01:00   8.0         12.0\n2018-01-07 00:02:00   3.0         11.0\n2018-01-07 00:03:00   6.0          9.0\n2018-01-07 00:04:00   0.0          6.0\n2018-01-07 00:05:00   0.0          0.0\n2018-01-07 00:06:00   8.0          8.0\n2018-01-07 00:07:00   7.0         15.0\n2018-01-07 00:08:00   3.0         10.0\n2018-01-07 00:09:00   7.0         10.0\n2018-01-07 00:10:00   1.0          8.0\n2018-01-07 00:11:00   2.0          3.0\n2018-01-07 00:12:00   4.0          6.0\n2018-01-07 00:13:00   3.0          7.0\n2018-01-07 00:14:00   3.0          6.0\n2018-01-07 00:15:00   2.0          5.0\n2018-01-07 00:16:00   6.0          8.0\n2018-01-07 00:17:00   3.0          9.0\n2018-01-07 00:18:00   8.0         11.0\n2018-01-07 00:19:00   1.0          9.0\n2018-01-07 00:20:00   5.0          6.0\n2018-01-07 00:21:00   7.0         12.0\n2018-01-07 00:22:00   4.0         11.0\n2018-01-07 00:23:00   3.0          7.0\n2018-01-07 00:24:00   1.0          4.0\n2018-01-07 00:25:00   2.0          3.0\n2018-01-07 00:26:00   1.0          3.0\n2018-01-07 00:27:00   8.0          9.0\n2018-01-07 00:28:00   4.0         12.0\n2018-01-07 00:29:00   2.0          6.0\n...                   ...          ...\n2018-07-19 23:31:00   3.0          8.0\n2018-07-19 23:32:00   0.0          3.0\n2018-07-19 23:33:00   4.0          4.0\n2018-07-19 23:34:00   8.0         12.0\n2018-07-19 23:35:00   4.0         12.0\n2018-07-19 23:36:00   7.0         11.0\n2018-07-19 23:37:00   4.0         11.0\n2018-07-19 23:38:00   4.0          8.0\n2018-07-19 23:39:00   2.0          6.0\n2018-07-19 23:40:00   2.0          4.0\n2018-07-19 23:41:00   8.0         10.0\n2018-07-19 23:42:00   3.0         11.0\n2018-07-19 23:43:00   3.0          6.0\n2018-07-19 23:44:00   2.0          5.0\n2018-07-19 23:45:00   3.0          5.0\n2018-07-19 23:46:00   6.0          9.0\n2018-07-19 23:47:00   5.0         11.0\n2018-07-19 23:48:00   3.0          8.0\n2018-07-19 23:49:00   6.0          9.0\n2018-07-19 23:50:00   1.0          7.0\n2018-07-19 23:51:00   7.0          8.0\n2018-07-19 23:52:00   7.0         14.0\n2018-07-19 23:53:00   8.0         15.0\n2018-07-19 23:54:00   8.0         16.0\n2018-07-19 23:55:00   7.0         15.0\n2018-07-19 23:56:00   1.0          8.0\n2018-07-19 23:57:00   4.0          5.0\n2018-07-19 23:58:00   2.0          6.0\n2018-07-19 23:59:00   1.0          3.0\n2018-07-20 00:00:00   0.0          1.0\n\n[279361 rows x 2 columns]"
          },
          "metadata": {}
        }
      ]
    },
    {
      "metadata": {
        "trusted": true
      },
      "cell_type": "code",
      "source": "#https://realpython.com/python-data-visualization-bokeh/",
      "execution_count": 26,
      "outputs": []
    },
    {
      "metadata": {
        "trusted": true
      },
      "cell_type": "code",
      "source": "nullos = np.empty((1,df['2018-07-10 00:00:00':'2018-07-11 23:59:59'].size))\nnullos[:] = np.nan\n\ndf = pd.DataFrame(nullos)\ndf\n\n",
      "execution_count": 27,
      "outputs": [
        {
          "output_type": "execute_result",
          "execution_count": 27,
          "data": {
            "text/html": "<div>\n<table border=\"1\" class=\"dataframe\">\n  <thead>\n    <tr style=\"text-align: right;\">\n      <th></th>\n      <th>0</th>\n      <th>1</th>\n      <th>2</th>\n      <th>3</th>\n      <th>4</th>\n      <th>5</th>\n      <th>6</th>\n      <th>7</th>\n      <th>8</th>\n      <th>9</th>\n      <th>...</th>\n      <th>5750</th>\n      <th>5751</th>\n      <th>5752</th>\n      <th>5753</th>\n      <th>5754</th>\n      <th>5755</th>\n      <th>5756</th>\n      <th>5757</th>\n      <th>5758</th>\n      <th>5759</th>\n    </tr>\n  </thead>\n  <tbody>\n    <tr>\n      <th>0</th>\n      <td>NaN</td>\n      <td>NaN</td>\n      <td>NaN</td>\n      <td>NaN</td>\n      <td>NaN</td>\n      <td>NaN</td>\n      <td>NaN</td>\n      <td>NaN</td>\n      <td>NaN</td>\n      <td>NaN</td>\n      <td>...</td>\n      <td>NaN</td>\n      <td>NaN</td>\n      <td>NaN</td>\n      <td>NaN</td>\n      <td>NaN</td>\n      <td>NaN</td>\n      <td>NaN</td>\n      <td>NaN</td>\n      <td>NaN</td>\n      <td>NaN</td>\n    </tr>\n  </tbody>\n</table>\n<p>1 rows × 5760 columns</p>\n</div>",
            "text/plain": "   0     1     2     3     4     5     6     7     8     9     ...   5750  \\\n0   NaN   NaN   NaN   NaN   NaN   NaN   NaN   NaN   NaN   NaN  ...    NaN   \n\n   5751  5752  5753  5754  5755  5756  5757  5758  5759  \n0   NaN   NaN   NaN   NaN   NaN   NaN   NaN   NaN   NaN  \n\n[1 rows x 5760 columns]"
          },
          "metadata": {}
        }
      ]
    }
  ],
  "metadata": {
    "kernelspec": {
      "name": "python3",
      "display_name": "Python 3",
      "language": "python"
    },
    "language_info": {
      "mimetype": "text/x-python",
      "nbconvert_exporter": "python",
      "name": "python",
      "file_extension": ".py",
      "version": "3.5.4",
      "pygments_lexer": "ipython3",
      "codemirror_mode": {
        "version": 3,
        "name": "ipython"
      }
    }
  },
  "nbformat": 4,
  "nbformat_minor": 2
}