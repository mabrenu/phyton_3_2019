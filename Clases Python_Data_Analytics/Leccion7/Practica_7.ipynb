{
  "cells": [
    {
      "metadata": {
        "trusted": true
      },
      "cell_type": "code",
      "source": "# creating an empty panel\n#https://www.tutorialspoint.com/python_pandas/python_pandas_panel\nimport pandas as pd\nimport numpy as np\ndata = {'Aula1' : pd.DataFrame(np.random.randn(4, 3)), \n   'Aula2' : pd.DataFrame(np.random.randn(4, 2))}\np = pd.Panel(data)\nprint(p['Aula1'])",
      "execution_count": 1,
      "outputs": [
        {
          "output_type": "stream",
          "text": "          0         1         2\n0 -0.358457 -1.677327 -1.219494\n1 -1.605858 -1.376799 -0.505612\n2 -0.833361 -0.442805 -1.816207\n3  0.090514  2.403151  0.321012\n",
          "name": "stdout"
        }
      ]
    },
    {
      "metadata": {
        "trusted": true
      },
      "cell_type": "code",
      "source": "print(p['Aula2'])",
      "execution_count": 2,
      "outputs": [
        {
          "output_type": "stream",
          "text": "          0         1   2\n0 -0.288499  0.584685 NaN\n1  0.252046 -2.211178 NaN\n2 -0.586816  0.517498 NaN\n3 -0.080860 -0.556000 NaN\n",
          "name": "stdout"
        }
      ]
    }
  ],
  "metadata": {
    "kernelspec": {
      "name": "python3",
      "display_name": "Python 3",
      "language": "python"
    },
    "language_info": {
      "mimetype": "text/x-python",
      "nbconvert_exporter": "python",
      "name": "python",
      "pygments_lexer": "ipython3",
      "version": "3.5.4",
      "file_extension": ".py",
      "codemirror_mode": {
        "version": 3,
        "name": "ipython"
      }
    }
  },
  "nbformat": 4,
  "nbformat_minor": 2
}