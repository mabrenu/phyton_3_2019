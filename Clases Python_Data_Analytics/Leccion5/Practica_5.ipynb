{
  "cells": [
    {
      "metadata": {
        "trusted": true
      },
      "cell_type": "code",
      "source": "#Caso práctico ",
      "execution_count": 9,
      "outputs": []
    },
    {
      "metadata": {
        "trusted": true
      },
      "cell_type": "code",
      "source": "import pandas as pd\ndf = pd.read_excel(\"https://github.com/chris1610/pbpython/blob/master/data/sample-salesv3.xlsx?raw=True\")",
      "execution_count": 1,
      "outputs": []
    },
    {
      "metadata": {
        "trusted": true
      },
      "cell_type": "code",
      "source": "df[\"date\"] = pd.to_datetime(df['date'])\n#Todo los datos son de tipo object menos los númerales",
      "execution_count": 2,
      "outputs": []
    },
    {
      "metadata": {
        "trusted": true
      },
      "cell_type": "code",
      "source": "df.head()",
      "execution_count": 3,
      "outputs": [
        {
          "output_type": "execute_result",
          "execution_count": 3,
          "data": {
            "text/html": "<div>\n<style scoped>\n    .dataframe tbody tr th:only-of-type {\n        vertical-align: middle;\n    }\n\n    .dataframe tbody tr th {\n        vertical-align: top;\n    }\n\n    .dataframe thead th {\n        text-align: right;\n    }\n</style>\n<table border=\"1\" class=\"dataframe\">\n  <thead>\n    <tr style=\"text-align: right;\">\n      <th></th>\n      <th>account number</th>\n      <th>name</th>\n      <th>sku</th>\n      <th>quantity</th>\n      <th>unit price</th>\n      <th>ext price</th>\n      <th>date</th>\n    </tr>\n  </thead>\n  <tbody>\n    <tr>\n      <th>0</th>\n      <td>740150</td>\n      <td>Barton LLC</td>\n      <td>B1-20000</td>\n      <td>39</td>\n      <td>86.69</td>\n      <td>3380.91</td>\n      <td>2014-01-01 07:21:51</td>\n    </tr>\n    <tr>\n      <th>1</th>\n      <td>714466</td>\n      <td>Trantow-Barrows</td>\n      <td>S2-77896</td>\n      <td>-1</td>\n      <td>63.16</td>\n      <td>-63.16</td>\n      <td>2014-01-01 10:00:47</td>\n    </tr>\n    <tr>\n      <th>2</th>\n      <td>218895</td>\n      <td>Kulas Inc</td>\n      <td>B1-69924</td>\n      <td>23</td>\n      <td>90.70</td>\n      <td>2086.10</td>\n      <td>2014-01-01 13:24:58</td>\n    </tr>\n    <tr>\n      <th>3</th>\n      <td>307599</td>\n      <td>Kassulke, Ondricka and Metz</td>\n      <td>S1-65481</td>\n      <td>41</td>\n      <td>21.05</td>\n      <td>863.05</td>\n      <td>2014-01-01 15:05:22</td>\n    </tr>\n    <tr>\n      <th>4</th>\n      <td>412290</td>\n      <td>Jerde-Hilpert</td>\n      <td>S2-34077</td>\n      <td>6</td>\n      <td>83.21</td>\n      <td>499.26</td>\n      <td>2014-01-01 23:26:55</td>\n    </tr>\n  </tbody>\n</table>\n</div>",
            "text/plain": "   account number                         name       sku  quantity  \\\n0          740150                   Barton LLC  B1-20000        39   \n1          714466              Trantow-Barrows  S2-77896        -1   \n2          218895                    Kulas Inc  B1-69924        23   \n3          307599  Kassulke, Ondricka and Metz  S1-65481        41   \n4          412290                Jerde-Hilpert  S2-34077         6   \n\n   unit price  ext price                date  \n0       86.69    3380.91 2014-01-01 07:21:51  \n1       63.16     -63.16 2014-01-01 10:00:47  \n2       90.70    2086.10 2014-01-01 13:24:58  \n3       21.05     863.05 2014-01-01 15:05:22  \n4       83.21     499.26 2014-01-01 23:26:55  "
          },
          "metadata": {}
        }
      ]
    },
    {
      "metadata": {
        "trusted": true
      },
      "cell_type": "code",
      "source": "df[[\"ext price\", \"quantity\", \"unit price\"]].agg(['sum', 'mean'])",
      "execution_count": 4,
      "outputs": [
        {
          "output_type": "execute_result",
          "execution_count": 4,
          "data": {
            "text/html": "<div>\n<style scoped>\n    .dataframe tbody tr th:only-of-type {\n        vertical-align: middle;\n    }\n\n    .dataframe tbody tr th {\n        vertical-align: top;\n    }\n\n    .dataframe thead th {\n        text-align: right;\n    }\n</style>\n<table border=\"1\" class=\"dataframe\">\n  <thead>\n    <tr style=\"text-align: right;\">\n      <th></th>\n      <th>ext price</th>\n      <th>quantity</th>\n      <th>unit price</th>\n    </tr>\n  </thead>\n  <tbody>\n    <tr>\n      <th>sum</th>\n      <td>2.018784e+06</td>\n      <td>36463.000000</td>\n      <td>82511.290000</td>\n    </tr>\n    <tr>\n      <th>mean</th>\n      <td>1.345856e+03</td>\n      <td>24.308667</td>\n      <td>55.007527</td>\n    </tr>\n  </tbody>\n</table>\n</div>",
            "text/plain": "         ext price      quantity    unit price\nsum   2.018784e+06  36463.000000  82511.290000\nmean  1.345856e+03     24.308667     55.007527"
          },
          "metadata": {}
        }
      ]
    },
    {
      "metadata": {
        "trusted": true,
        "scrolled": true
      },
      "cell_type": "code",
      "source": "df.agg({'ext price': ['sum', 'mean'], 'quantity': ['sum', 'mean'], 'unit price': ['mean']})",
      "execution_count": 5,
      "outputs": [
        {
          "output_type": "execute_result",
          "execution_count": 5,
          "data": {
            "text/html": "<div>\n<style scoped>\n    .dataframe tbody tr th:only-of-type {\n        vertical-align: middle;\n    }\n\n    .dataframe tbody tr th {\n        vertical-align: top;\n    }\n\n    .dataframe thead th {\n        text-align: right;\n    }\n</style>\n<table border=\"1\" class=\"dataframe\">\n  <thead>\n    <tr style=\"text-align: right;\">\n      <th></th>\n      <th>ext price</th>\n      <th>quantity</th>\n      <th>unit price</th>\n    </tr>\n  </thead>\n  <tbody>\n    <tr>\n      <th>mean</th>\n      <td>1.345856e+03</td>\n      <td>24.308667</td>\n      <td>55.007527</td>\n    </tr>\n    <tr>\n      <th>sum</th>\n      <td>2.018784e+06</td>\n      <td>36463.000000</td>\n      <td>NaN</td>\n    </tr>\n  </tbody>\n</table>\n</div>",
            "text/plain": "         ext price      quantity  unit price\nmean  1.345856e+03     24.308667   55.007527\nsum   2.018784e+06  36463.000000         NaN"
          },
          "metadata": {}
        }
      ]
    },
    {
      "metadata": {
        "trusted": true
      },
      "cell_type": "code",
      "source": "get_max = lambda x: x.value_counts(dropna=False).index[0]\ndf.agg({'ext price': ['sum', 'mean'], 'quantity': ['sum', 'mean'], 'unit price': ['mean'], 'sku': [get_max]})\n#value_count= cuántos?, retorna un set, este siempre ordena desc\n#.index[-0] obtiene el último\n# o utilizar el sort.value",
      "execution_count": 14,
      "outputs": [
        {
          "output_type": "execute_result",
          "execution_count": 14,
          "data": {
            "text/html": "<div>\n<style scoped>\n    .dataframe tbody tr th:only-of-type {\n        vertical-align: middle;\n    }\n\n    .dataframe tbody tr th {\n        vertical-align: top;\n    }\n\n    .dataframe thead th {\n        text-align: right;\n    }\n</style>\n<table border=\"1\" class=\"dataframe\">\n  <thead>\n    <tr style=\"text-align: right;\">\n      <th></th>\n      <th>ext price</th>\n      <th>quantity</th>\n      <th>unit price</th>\n      <th>sku</th>\n    </tr>\n  </thead>\n  <tbody>\n    <tr>\n      <th>&lt;lambda&gt;</th>\n      <td>NaN</td>\n      <td>NaN</td>\n      <td>NaN</td>\n      <td>S2-77896</td>\n    </tr>\n    <tr>\n      <th>mean</th>\n      <td>1.345856e+03</td>\n      <td>24.308667</td>\n      <td>55.007527</td>\n      <td>NaN</td>\n    </tr>\n    <tr>\n      <th>sum</th>\n      <td>2.018784e+06</td>\n      <td>36463.000000</td>\n      <td>NaN</td>\n      <td>NaN</td>\n    </tr>\n  </tbody>\n</table>\n</div>",
            "text/plain": "             ext price      quantity  unit price       sku\n<lambda>           NaN           NaN         NaN  S2-77896\nmean      1.345856e+03     24.308667   55.007527       NaN\nsum       2.018784e+06  36463.000000         NaN       NaN"
          },
          "metadata": {}
        }
      ]
    },
    {
      "metadata": {
        "trusted": true
      },
      "cell_type": "code",
      "source": "get_max.__name__ = \"most frequent\"\n#cambio de nombre lambda a most frecuent",
      "execution_count": 15,
      "outputs": []
    },
    {
      "metadata": {
        "trusted": true
      },
      "cell_type": "code",
      "source": "df.agg({'ext price': ['sum', 'mean'], 'quantity': ['sum', 'mean'], 'unit price': ['mean'], 'sku': [get_max]})",
      "execution_count": 16,
      "outputs": [
        {
          "output_type": "execute_result",
          "execution_count": 16,
          "data": {
            "text/html": "<div>\n<style scoped>\n    .dataframe tbody tr th:only-of-type {\n        vertical-align: middle;\n    }\n\n    .dataframe tbody tr th {\n        vertical-align: top;\n    }\n\n    .dataframe thead th {\n        text-align: right;\n    }\n</style>\n<table border=\"1\" class=\"dataframe\">\n  <thead>\n    <tr style=\"text-align: right;\">\n      <th></th>\n      <th>ext price</th>\n      <th>quantity</th>\n      <th>unit price</th>\n      <th>sku</th>\n    </tr>\n  </thead>\n  <tbody>\n    <tr>\n      <th>mean</th>\n      <td>1.345856e+03</td>\n      <td>24.308667</td>\n      <td>55.007527</td>\n      <td>NaN</td>\n    </tr>\n    <tr>\n      <th>most frequent</th>\n      <td>NaN</td>\n      <td>NaN</td>\n      <td>NaN</td>\n      <td>S2-77896</td>\n    </tr>\n    <tr>\n      <th>sum</th>\n      <td>2.018784e+06</td>\n      <td>36463.000000</td>\n      <td>NaN</td>\n      <td>NaN</td>\n    </tr>\n  </tbody>\n</table>\n</div>",
            "text/plain": "                  ext price      quantity  unit price       sku\nmean           1.345856e+03     24.308667   55.007527       NaN\nmost frequent           NaN           NaN         NaN  S2-77896\nsum            2.018784e+06  36463.000000         NaN       NaN"
          },
          "metadata": {}
        }
      ]
    },
    {
      "metadata": {
        "trusted": true
      },
      "cell_type": "code",
      "source": "#control de las columnas",
      "execution_count": 17,
      "outputs": []
    },
    {
      "metadata": {
        "trusted": true,
        "scrolled": true
      },
      "cell_type": "code",
      "source": "import collections\nf = collections.OrderedDict([('sku', [get_max]),('ext price', ['sum', 'mean']), ('quantity', ['sum', 'mean'])])\ndf.agg(f)\n# Order de las columnas",
      "execution_count": 18,
      "outputs": [
        {
          "output_type": "execute_result",
          "execution_count": 18,
          "data": {
            "text/html": "<div>\n<style scoped>\n    .dataframe tbody tr th:only-of-type {\n        vertical-align: middle;\n    }\n\n    .dataframe tbody tr th {\n        vertical-align: top;\n    }\n\n    .dataframe thead th {\n        text-align: right;\n    }\n</style>\n<table border=\"1\" class=\"dataframe\">\n  <thead>\n    <tr style=\"text-align: right;\">\n      <th></th>\n      <th>sku</th>\n      <th>ext price</th>\n      <th>quantity</th>\n    </tr>\n  </thead>\n  <tbody>\n    <tr>\n      <th>mean</th>\n      <td>NaN</td>\n      <td>1.345856e+03</td>\n      <td>24.308667</td>\n    </tr>\n    <tr>\n      <th>most frequent</th>\n      <td>S2-77896</td>\n      <td>NaN</td>\n      <td>NaN</td>\n    </tr>\n    <tr>\n      <th>sum</th>\n      <td>NaN</td>\n      <td>2.018784e+06</td>\n      <td>36463.000000</td>\n    </tr>\n  </tbody>\n</table>\n</div>",
            "text/plain": "                    sku     ext price      quantity\nmean                NaN  1.345856e+03     24.308667\nmost frequent  S2-77896           NaN           NaN\nsum                 NaN  2.018784e+06  36463.000000"
          },
          "metadata": {}
        }
      ]
    },
    {
      "metadata": {
        "trusted": true
      },
      "cell_type": "code",
      "source": "#Cúal es el name que aparece más veces?\ndf.groupby(['name'])['name'].count().sort_values(ascending=False)",
      "execution_count": 19,
      "outputs": [
        {
          "output_type": "execute_result",
          "execution_count": 19,
          "data": {
            "text/plain": "name\nKulas Inc                          94\nTrantow-Barrows                    94\nJerde-Hilpert                      89\nWhite-Trantow                      86\nBarton LLC                         82\nKoepp Ltd                          82\nFritsch, Russel and Anderson       81\nKiehn-Spinka                       79\nKeeling LLC                        74\nWill LLC                           74\nKuhn-Gusikowski                    73\nPollich LLC                        73\nStokes LLC                         72\nFrami, Hills and Schmidt           72\nSanford and Sons                   71\nCronin, Oberbrunner and Spencer    67\nKassulke, Ondricka and Metz        64\nHerman LLC                         62\nHalvorson, Crona and Champlin      58\nPurdy-Kunde                        53\nName: name, dtype: int64"
          },
          "metadata": {}
        }
      ]
    },
    {
      "metadata": {
        "trusted": true
      },
      "cell_type": "code",
      "source": "df.groupby(['name'])['quantity'].sum().sort_values(ascending=False)\n#.index[0] primer valor",
      "execution_count": 20,
      "outputs": [
        {
          "output_type": "execute_result",
          "execution_count": 20,
          "data": {
            "text/plain": "name\nTrantow-Barrows                    2271\nKulas Inc                          2265\nWhite-Trantow                      2258\nFritsch, Russel and Anderson       2112\nBarton LLC                         2041\nJerde-Hilpert                      1999\nFrami, Hills and Schmidt           1903\nWill LLC                           1828\nKeeling LLC                        1806\nKoepp Ltd                          1790\nStokes LLC                         1766\nKiehn-Spinka                       1756\nPollich LLC                        1707\nSanford and Sons                   1704\nCronin, Oberbrunner and Spencer    1673\nKuhn-Gusikowski                    1665\nKassulke, Ondricka and Metz        1647\nHerman LLC                         1538\nPurdy-Kunde                        1450\nHalvorson, Crona and Champlin      1284\nName: quantity, dtype: int64"
          },
          "metadata": {}
        }
      ]
    },
    {
      "metadata": {
        "trusted": true
      },
      "cell_type": "code",
      "source": "#4. Cada name tiene un único Acount Number\ndf.groupby('name')['account number'].nunique()>1",
      "execution_count": 21,
      "outputs": [
        {
          "output_type": "execute_result",
          "execution_count": 21,
          "data": {
            "text/plain": "name\nBarton LLC                         False\nCronin, Oberbrunner and Spencer    False\nFrami, Hills and Schmidt           False\nFritsch, Russel and Anderson       False\nHalvorson, Crona and Champlin      False\nHerman LLC                         False\nJerde-Hilpert                      False\nKassulke, Ondricka and Metz        False\nKeeling LLC                        False\nKiehn-Spinka                       False\nKoepp Ltd                          False\nKuhn-Gusikowski                    False\nKulas Inc                          False\nPollich LLC                        False\nPurdy-Kunde                        False\nSanford and Sons                   False\nStokes LLC                         False\nTrantow-Barrows                    False\nWhite-Trantow                      False\nWill LLC                           False\nName: account number, dtype: bool"
          },
          "metadata": {}
        }
      ]
    },
    {
      "metadata": {
        "trusted": true
      },
      "cell_type": "code",
      "source": "",
      "execution_count": null,
      "outputs": []
    },
    {
      "metadata": {
        "trusted": true
      },
      "cell_type": "code",
      "source": "",
      "execution_count": null,
      "outputs": []
    }
  ],
  "metadata": {
    "kernelspec": {
      "name": "python36",
      "display_name": "Python 3.6",
      "language": "python"
    },
    "language_info": {
      "mimetype": "text/x-python",
      "nbconvert_exporter": "python",
      "name": "python",
      "pygments_lexer": "ipython3",
      "version": "3.6.6",
      "file_extension": ".py",
      "codemirror_mode": {
        "version": 3,
        "name": "ipython"
      }
    }
  },
  "nbformat": 4,
  "nbformat_minor": 2
}