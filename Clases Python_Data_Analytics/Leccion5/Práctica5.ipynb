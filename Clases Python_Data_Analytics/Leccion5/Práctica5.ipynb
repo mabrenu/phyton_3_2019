{
  "cells": [
    {
      "metadata": {
        "trusted": true
      },
      "cell_type": "code",
      "source": "import pandas as pd",
      "execution_count": 2,
      "outputs": []
    },
    {
      "metadata": {
        "trusted": true
      },
      "cell_type": "code",
      "source": "contactos = pd.DataFrame({'Key1':['Tom','Pepe','Juan'], 'Telefono':[88,77,66]})\ncontactos\n",
      "execution_count": 36,
      "outputs": [
        {
          "output_type": "execute_result",
          "execution_count": 36,
          "data": {
            "text/html": "<div>\n<style scoped>\n    .dataframe tbody tr th:only-of-type {\n        vertical-align: middle;\n    }\n\n    .dataframe tbody tr th {\n        vertical-align: top;\n    }\n\n    .dataframe thead th {\n        text-align: right;\n    }\n</style>\n<table border=\"1\" class=\"dataframe\">\n  <thead>\n    <tr style=\"text-align: right;\">\n      <th></th>\n      <th>Key1</th>\n      <th>Telefono</th>\n    </tr>\n  </thead>\n  <tbody>\n    <tr>\n      <th>0</th>\n      <td>Tom</td>\n      <td>88</td>\n    </tr>\n    <tr>\n      <th>1</th>\n      <td>Pepe</td>\n      <td>77</td>\n    </tr>\n    <tr>\n      <th>2</th>\n      <td>Juan</td>\n      <td>66</td>\n    </tr>\n  </tbody>\n</table>\n</div>",
            "text/plain": "   Key1  Telefono\n0   Tom        88\n1  Pepe        77\n2  Juan        66"
          },
          "metadata": {}
        }
      ]
    },
    {
      "metadata": {
        "trusted": true
      },
      "cell_type": "code",
      "source": "incidencias = pd.DataFrame({ 'Key1':['Pepe','Juan', 'Pepe','Juan','Tom','Juan', 'Pepe'], 'Incidencias': ['No correo','No apagó',\n                          'Puerta abierta',  'Luz Encendida','Enfermo','Tubo abierto','Luz Encendida']})\nincidencias",
      "execution_count": 39,
      "outputs": [
        {
          "output_type": "execute_result",
          "execution_count": 39,
          "data": {
            "text/html": "<div>\n<style scoped>\n    .dataframe tbody tr th:only-of-type {\n        vertical-align: middle;\n    }\n\n    .dataframe tbody tr th {\n        vertical-align: top;\n    }\n\n    .dataframe thead th {\n        text-align: right;\n    }\n</style>\n<table border=\"1\" class=\"dataframe\">\n  <thead>\n    <tr style=\"text-align: right;\">\n      <th></th>\n      <th>Key1</th>\n      <th>Incidencias</th>\n    </tr>\n  </thead>\n  <tbody>\n    <tr>\n      <th>0</th>\n      <td>Pepe</td>\n      <td>No correo</td>\n    </tr>\n    <tr>\n      <th>1</th>\n      <td>Juan</td>\n      <td>No apagó</td>\n    </tr>\n    <tr>\n      <th>2</th>\n      <td>Pepe</td>\n      <td>Puerta abierta</td>\n    </tr>\n    <tr>\n      <th>3</th>\n      <td>Juan</td>\n      <td>Luz Encendida</td>\n    </tr>\n    <tr>\n      <th>4</th>\n      <td>Tom</td>\n      <td>Enfermo</td>\n    </tr>\n    <tr>\n      <th>5</th>\n      <td>Juan</td>\n      <td>Tubo abierto</td>\n    </tr>\n    <tr>\n      <th>6</th>\n      <td>Pepe</td>\n      <td>Luz Encendida</td>\n    </tr>\n  </tbody>\n</table>\n</div>",
            "text/plain": "   Key1     Incidencias\n0  Pepe       No correo\n1  Juan        No apagó\n2  Pepe  Puerta abierta\n3  Juan   Luz Encendida\n4   Tom         Enfermo\n5  Juan    Tubo abierto\n6  Pepe   Luz Encendida"
          },
          "metadata": {}
        }
      ]
    },
    {
      "metadata": {
        "trusted": true
      },
      "cell_type": "code",
      "source": "result = pd.merge(contactos, incidencias, how='outer', on=['Key1', 'Key1'])\nresult",
      "execution_count": 40,
      "outputs": [
        {
          "output_type": "execute_result",
          "execution_count": 40,
          "data": {
            "text/html": "<div>\n<style scoped>\n    .dataframe tbody tr th:only-of-type {\n        vertical-align: middle;\n    }\n\n    .dataframe tbody tr th {\n        vertical-align: top;\n    }\n\n    .dataframe thead th {\n        text-align: right;\n    }\n</style>\n<table border=\"1\" class=\"dataframe\">\n  <thead>\n    <tr style=\"text-align: right;\">\n      <th></th>\n      <th>Key1</th>\n      <th>Telefono</th>\n      <th>Incidencias</th>\n    </tr>\n  </thead>\n  <tbody>\n    <tr>\n      <th>0</th>\n      <td>Tom</td>\n      <td>88</td>\n      <td>Enfermo</td>\n    </tr>\n    <tr>\n      <th>1</th>\n      <td>Pepe</td>\n      <td>77</td>\n      <td>No correo</td>\n    </tr>\n    <tr>\n      <th>2</th>\n      <td>Pepe</td>\n      <td>77</td>\n      <td>Puerta abierta</td>\n    </tr>\n    <tr>\n      <th>3</th>\n      <td>Pepe</td>\n      <td>77</td>\n      <td>Luz Encendida</td>\n    </tr>\n    <tr>\n      <th>4</th>\n      <td>Juan</td>\n      <td>66</td>\n      <td>No apagó</td>\n    </tr>\n    <tr>\n      <th>5</th>\n      <td>Juan</td>\n      <td>66</td>\n      <td>Luz Encendida</td>\n    </tr>\n    <tr>\n      <th>6</th>\n      <td>Juan</td>\n      <td>66</td>\n      <td>Tubo abierto</td>\n    </tr>\n  </tbody>\n</table>\n</div>",
            "text/plain": "   Key1  Telefono     Incidencias\n0   Tom        88         Enfermo\n1  Pepe        77       No correo\n2  Pepe        77  Puerta abierta\n3  Pepe        77   Luz Encendida\n4  Juan        66        No apagó\n5  Juan        66   Luz Encendida\n6  Juan        66    Tubo abierto"
          },
          "metadata": {}
        }
      ]
    },
    {
      "metadata": {
        "trusted": true
      },
      "cell_type": "code",
      "source": "",
      "execution_count": null,
      "outputs": []
    }
  ],
  "metadata": {
    "kernelspec": {
      "name": "python36",
      "display_name": "Python 3.6",
      "language": "python"
    },
    "language_info": {
      "mimetype": "text/x-python",
      "nbconvert_exporter": "python",
      "name": "python",
      "pygments_lexer": "ipython3",
      "version": "3.6.6",
      "file_extension": ".py",
      "codemirror_mode": {
        "version": 3,
        "name": "ipython"
      }
    }
  },
  "nbformat": 4,
  "nbformat_minor": 2
}