{
  "cells": [
    {
      "metadata": {
        "trusted": true
      },
      "cell_type": "code",
      "source": "'''\n1.Crear un dataframe\n2.Quien tiene más de 1000\n'''\nfrom pandas import DataFrame\nimport pandas as pd\nimport numpy as np\n\ndata = [{'Name':'Tom', 'Edad':34, 'Teléfono':88, 'Saldo':1000},\n        {'Name':'Chepe', 'Edad':30, 'Teléfono':66, 'Saldo':800},\n        {'Name':'Juan', 'Edad':40, 'Teléfono':77, 'Saldo':1500}\n       ]\nframe = pd.DataFrame(data)\nframe",
      "execution_count": 7,
      "outputs": [
        {
          "output_type": "execute_result",
          "execution_count": 7,
          "data": {
            "text/html": "<div>\n<style scoped>\n    .dataframe tbody tr th:only-of-type {\n        vertical-align: middle;\n    }\n\n    .dataframe tbody tr th {\n        vertical-align: top;\n    }\n\n    .dataframe thead th {\n        text-align: right;\n    }\n</style>\n<table border=\"1\" class=\"dataframe\">\n  <thead>\n    <tr style=\"text-align: right;\">\n      <th></th>\n      <th>Edad</th>\n      <th>Name</th>\n      <th>Saldo</th>\n      <th>Teléfono</th>\n    </tr>\n  </thead>\n  <tbody>\n    <tr>\n      <th>0</th>\n      <td>34</td>\n      <td>Tom</td>\n      <td>1000</td>\n      <td>88</td>\n    </tr>\n    <tr>\n      <th>1</th>\n      <td>30</td>\n      <td>Chepe</td>\n      <td>800</td>\n      <td>66</td>\n    </tr>\n    <tr>\n      <th>2</th>\n      <td>40</td>\n      <td>Juan</td>\n      <td>1500</td>\n      <td>77</td>\n    </tr>\n  </tbody>\n</table>\n</div>",
            "text/plain": "   Edad   Name  Saldo  Teléfono\n0    34    Tom   1000        88\n1    30  Chepe    800        66\n2    40   Juan   1500        77"
          },
          "metadata": {}
        }
      ]
    },
    {
      "metadata": {
        "trusted": true
      },
      "cell_type": "code",
      "source": "frame[frame['Saldo'] > 1000]",
      "execution_count": 14,
      "outputs": [
        {
          "output_type": "execute_result",
          "execution_count": 14,
          "data": {
            "text/html": "<div>\n<style scoped>\n    .dataframe tbody tr th:only-of-type {\n        vertical-align: middle;\n    }\n\n    .dataframe tbody tr th {\n        vertical-align: top;\n    }\n\n    .dataframe thead th {\n        text-align: right;\n    }\n</style>\n<table border=\"1\" class=\"dataframe\">\n  <thead>\n    <tr style=\"text-align: right;\">\n      <th></th>\n      <th>Edad</th>\n      <th>Name</th>\n      <th>Saldo</th>\n      <th>Teléfono</th>\n    </tr>\n  </thead>\n  <tbody>\n    <tr>\n      <th>2</th>\n      <td>40</td>\n      <td>Juan</td>\n      <td>1500</td>\n      <td>77</td>\n    </tr>\n  </tbody>\n</table>\n</div>",
            "text/plain": "   Edad  Name  Saldo  Teléfono\n2    40  Juan   1500        77"
          },
          "metadata": {}
        }
      ]
    },
    {
      "metadata": {
        "trusted": true
      },
      "cell_type": "code",
      "source": "",
      "execution_count": null,
      "outputs": []
    }
  ],
  "metadata": {
    "kernelspec": {
      "name": "python36",
      "display_name": "Python 3.6",
      "language": "python"
    }
  },
  "nbformat": 4,
  "nbformat_minor": 2
}