{
  "cells": [
    {
      "metadata": {
        "trusted": true
      },
      "cell_type": "code",
      "source": "'''Crear una serie con datos de población\n¿Cómo es la población por provincia luego de cambiar los demográfias?\n'''",
      "execution_count": 1,
      "outputs": [
        {
          "output_type": "execute_result",
          "execution_count": 1,
          "data": {
            "text/plain": "'Crear una serie con datos de población\\n¿Cómo es la población por provincia luego de cambiar los demográfias?\\n'"
          },
          "metadata": {}
        }
      ]
    },
    {
      "metadata": {
        "trusted": true
      },
      "cell_type": "code",
      "source": "import pandas as pd\nserie1 = {'San José': 1000E3, 'Alajuela': 800E3, 'Cartago': 500E3, 'Heredia': 400E3, 'Guanacaste': 300E3, 'Puntarenas': 250E3 , 'Limón':200E3}\nserie1\n",
      "execution_count": 2,
      "outputs": [
        {
          "output_type": "execute_result",
          "execution_count": 2,
          "data": {
            "text/plain": "{'San José': 1000000.0,\n 'Alajuela': 800000.0,\n 'Cartago': 500000.0,\n 'Heredia': 400000.0,\n 'Guanacaste': 300000.0,\n 'Puntarenas': 250000.0,\n 'Limón': 200000.0}"
          },
          "metadata": {}
        }
      ]
    },
    {
      "metadata": {
        "trusted": true
      },
      "cell_type": "code",
      "source": "serie2 = {'San José': -100E3,'Heredia': 100E3, 'Puntarenas': 50E3 }\nserie2\n",
      "execution_count": 3,
      "outputs": [
        {
          "output_type": "execute_result",
          "execution_count": 3,
          "data": {
            "text/plain": "{'San José': -100000.0, 'Heredia': 100000.0, 'Puntarenas': 50000.0}"
          },
          "metadata": {}
        }
      ]
    },
    {
      "metadata": {
        "trusted": true
      },
      "cell_type": "code",
      "source": "obj1 = pd.Series(serie1)\nobj2 = pd.Series(serie2)\n(obj1 + obj2).fillna(obj1)",
      "execution_count": 4,
      "outputs": [
        {
          "output_type": "execute_result",
          "execution_count": 4,
          "data": {
            "text/plain": "Alajuela      800000.0\nCartago       500000.0\nGuanacaste    300000.0\nHeredia       500000.0\nLimón         200000.0\nPuntarenas    300000.0\nSan José      900000.0\ndtype: float64"
          },
          "metadata": {}
        }
      ]
    },
    {
      "metadata": {
        "trusted": true
      },
      "cell_type": "code",
      "source": "'''********OTRA FORMA DE RESOLUCIÓN'''\ndatos1 = [1E6,8E5,5E5,4E5,3E5, 25E4,2E5]\nprovincias = ['San José','Alajuela','Cartago', 'Heredia','Guanacaste','Puntarenas', 'Limón']\ninicial = pd.Series(datos1, index=provincias, name='poblacion')\ninicial\n\n\n\n",
      "execution_count": 5,
      "outputs": [
        {
          "output_type": "execute_result",
          "execution_count": 5,
          "data": {
            "text/plain": "San José      1000000.0\nAlajuela       800000.0\nCartago        500000.0\nHeredia        400000.0\nGuanacaste     300000.0\nPuntarenas     250000.0\nLimón          200000.0\nName: poblacion, dtype: float64"
          },
          "metadata": {}
        }
      ]
    },
    {
      "metadata": {
        "trusted": true
      },
      "cell_type": "code",
      "source": "datos2 =[1E5,5E4,-1E5]\nmovimientos = pd.Series(datos2, index = ['Heredia', 'Puntarenas','San José'])\n\nmov= movimientos.reindex(provincias).fillna(0) #Reconexión",
      "execution_count": 6,
      "outputs": []
    },
    {
      "metadata": {
        "trusted": true
      },
      "cell_type": "code",
      "source": "inicial + mov",
      "execution_count": 7,
      "outputs": [
        {
          "output_type": "execute_result",
          "execution_count": 7,
          "data": {
            "text/plain": "San José      900000.0\nAlajuela      800000.0\nCartago       500000.0\nHeredia       500000.0\nGuanacaste    300000.0\nPuntarenas    300000.0\nLimón         200000.0\ndtype: float64"
          },
          "metadata": {}
        }
      ]
    },
    {
      "metadata": {
        "trusted": true
      },
      "cell_type": "code",
      "source": "'''********OTRA FORMA DE RESOLUCIÓN'''\npd.Series(movimientos, index=provincias).fillna(0) # en lugar de hacer un reindex",
      "execution_count": 8,
      "outputs": [
        {
          "output_type": "execute_result",
          "execution_count": 8,
          "data": {
            "text/plain": "San José     -100000.0\nAlajuela           0.0\nCartago            0.0\nHeredia       100000.0\nGuanacaste         0.0\nPuntarenas     50000.0\nLimón              0.0\ndtype: float64"
          },
          "metadata": {}
        }
      ]
    },
    {
      "metadata": {
        "trusted": true
      },
      "cell_type": "code",
      "source": "'''********OTRA FORMA DE RESOLUCIÓN'''\nsin_mov = list(set(inicial.index)-set(movimientos.index))",
      "execution_count": 9,
      "outputs": []
    },
    {
      "metadata": {
        "trusted": true
      },
      "cell_type": "code",
      "source": "movimientos= movimientos.reindex(provincias)\nmovimientos[sin_mov]=0\nmovimientos",
      "execution_count": 10,
      "outputs": [
        {
          "output_type": "execute_result",
          "execution_count": 10,
          "data": {
            "text/plain": "San José     -100000.0\nAlajuela           0.0\nCartago            0.0\nHeredia       100000.0\nGuanacaste         0.0\nPuntarenas     50000.0\nLimón              0.0\ndtype: float64"
          },
          "metadata": {}
        }
      ]
    },
    {
      "metadata": {
        "trusted": true
      },
      "cell_type": "code",
      "source": "final = inicial + movimientos",
      "execution_count": 11,
      "outputs": []
    },
    {
      "metadata": {
        "trusted": true
      },
      "cell_type": "code",
      "source": "final[final>5E5].sum()",
      "execution_count": 12,
      "outputs": [
        {
          "output_type": "execute_result",
          "execution_count": 12,
          "data": {
            "text/plain": "1700000.0"
          },
          "metadata": {}
        }
      ]
    },
    {
      "metadata": {
        "trusted": true
      },
      "cell_type": "code",
      "source": "final[final>5E5].apply(lambda x : 'tengo ' + str(x))",
      "execution_count": 13,
      "outputs": [
        {
          "output_type": "execute_result",
          "execution_count": 13,
          "data": {
            "text/plain": "San José    tengo 900000.0\nAlajuela    tengo 800000.0\ndtype: object"
          },
          "metadata": {}
        }
      ]
    },
    {
      "metadata": {
        "trusted": true
      },
      "cell_type": "code",
      "source": "final[final>5E5].apply(lambda x : 'Hola soy de: ' + final[final==x].index[0] + str(x)).values.tolist()",
      "execution_count": 14,
      "outputs": [
        {
          "output_type": "execute_result",
          "execution_count": 14,
          "data": {
            "text/plain": "['Hola soy de: San José900000.0', 'Hola soy de: Alajuela800000.0']"
          },
          "metadata": {}
        }
      ]
    },
    {
      "metadata": {
        "trusted": true
      },
      "cell_type": "code",
      "source": "",
      "execution_count": null,
      "outputs": []
    }
  ],
  "metadata": {
    "kernelspec": {
      "name": "python36",
      "display_name": "Python 3.6",
      "language": "python"
    },
    "language_info": {
      "mimetype": "text/x-python",
      "nbconvert_exporter": "python",
      "name": "python",
      "pygments_lexer": "ipython3",
      "version": "3.6.6",
      "file_extension": ".py",
      "codemirror_mode": {
        "version": 3,
        "name": "ipython"
      }
    }
  },
  "nbformat": 4,
  "nbformat_minor": 2
}