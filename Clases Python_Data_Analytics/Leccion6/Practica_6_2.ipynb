{
  "cells": [
    {
      "metadata": {
        "trusted": true
      },
      "cell_type": "code",
      "source": "import pandas as pd\nfrom numpy import nan as NA",
      "execution_count": 7,
      "outputs": []
    },
    {
      "metadata": {
        "trusted": true
      },
      "cell_type": "code",
      "source": "data = pd.DataFrame({'Fecha': ['2019-07-01', '2019-08-01','2019-09-01','2019-10-01','2019-11-01'],\n                     'Tom': [1000,2000,1500,NA,NA],\n                    'Pepe': [NA,1000,500,2000,500],\n                    'Charlie': [500,1000,NA,NA,NA],\n                    })\ndata=data.set_index('Fecha')\ndata",
      "execution_count": 8,
      "outputs": [
        {
          "output_type": "execute_result",
          "execution_count": 8,
          "data": {
            "text/html": "<div>\n<table border=\"1\" class=\"dataframe\">\n  <thead>\n    <tr style=\"text-align: right;\">\n      <th></th>\n      <th>Charlie</th>\n      <th>Pepe</th>\n      <th>Tom</th>\n    </tr>\n    <tr>\n      <th>Fecha</th>\n      <th></th>\n      <th></th>\n      <th></th>\n    </tr>\n  </thead>\n  <tbody>\n    <tr>\n      <th>2019-07-01</th>\n      <td>500.0</td>\n      <td>NaN</td>\n      <td>1000.0</td>\n    </tr>\n    <tr>\n      <th>2019-08-01</th>\n      <td>1000.0</td>\n      <td>1000.0</td>\n      <td>2000.0</td>\n    </tr>\n    <tr>\n      <th>2019-09-01</th>\n      <td>NaN</td>\n      <td>500.0</td>\n      <td>1500.0</td>\n    </tr>\n    <tr>\n      <th>2019-10-01</th>\n      <td>NaN</td>\n      <td>2000.0</td>\n      <td>NaN</td>\n    </tr>\n    <tr>\n      <th>2019-11-01</th>\n      <td>NaN</td>\n      <td>500.0</td>\n      <td>NaN</td>\n    </tr>\n  </tbody>\n</table>\n</div>",
            "text/plain": "            Charlie    Pepe     Tom\nFecha                              \n2019-07-01    500.0     NaN  1000.0\n2019-08-01   1000.0  1000.0  2000.0\n2019-09-01      NaN   500.0  1500.0\n2019-10-01      NaN  2000.0     NaN\n2019-11-01      NaN   500.0     NaN"
          },
          "metadata": {}
        }
      ]
    },
    {
      "metadata": {
        "trusted": true
      },
      "cell_type": "code",
      "source": "#Cambiar el nombre de las columnas\ndata.rename(columns={'Tom':'Alfaro,Tomas','Pepe':'Castro, Jose','Charlie':'Mora,Carlos'})",
      "execution_count": 9,
      "outputs": [
        {
          "output_type": "execute_result",
          "execution_count": 9,
          "data": {
            "text/html": "<div>\n<table border=\"1\" class=\"dataframe\">\n  <thead>\n    <tr style=\"text-align: right;\">\n      <th></th>\n      <th>Mora,Carlos</th>\n      <th>Castro, Jose</th>\n      <th>Alfaro,Tomas</th>\n    </tr>\n    <tr>\n      <th>Fecha</th>\n      <th></th>\n      <th></th>\n      <th></th>\n    </tr>\n  </thead>\n  <tbody>\n    <tr>\n      <th>2019-07-01</th>\n      <td>500.0</td>\n      <td>NaN</td>\n      <td>1000.0</td>\n    </tr>\n    <tr>\n      <th>2019-08-01</th>\n      <td>1000.0</td>\n      <td>1000.0</td>\n      <td>2000.0</td>\n    </tr>\n    <tr>\n      <th>2019-09-01</th>\n      <td>NaN</td>\n      <td>500.0</td>\n      <td>1500.0</td>\n    </tr>\n    <tr>\n      <th>2019-10-01</th>\n      <td>NaN</td>\n      <td>2000.0</td>\n      <td>NaN</td>\n    </tr>\n    <tr>\n      <th>2019-11-01</th>\n      <td>NaN</td>\n      <td>500.0</td>\n      <td>NaN</td>\n    </tr>\n  </tbody>\n</table>\n</div>",
            "text/plain": "            Mora,Carlos  Castro, Jose  Alfaro,Tomas\nFecha                                              \n2019-07-01        500.0           NaN        1000.0\n2019-08-01       1000.0        1000.0        2000.0\n2019-09-01          NaN         500.0        1500.0\n2019-10-01          NaN        2000.0           NaN\n2019-11-01          NaN         500.0           NaN"
          },
          "metadata": {}
        }
      ]
    },
    {
      "metadata": {
        "trusted": true
      },
      "cell_type": "code",
      "source": "",
      "execution_count": null,
      "outputs": []
    }
  ],
  "metadata": {
    "kernelspec": {
      "name": "python3",
      "display_name": "Python 3",
      "language": "python"
    },
    "language_info": {
      "mimetype": "text/x-python",
      "nbconvert_exporter": "python",
      "name": "python",
      "file_extension": ".py",
      "version": "3.5.4",
      "pygments_lexer": "ipython3",
      "codemirror_mode": {
        "version": 3,
        "name": "ipython"
      }
    }
  },
  "nbformat": 4,
  "nbformat_minor": 2
}